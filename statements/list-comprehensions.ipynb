{
 "cells": [
  {
   "cell_type": "markdown",
   "metadata": {},
   "source": [
    "# List Comprehensions\n",
    "Unique way of quickly creating a list.\n",
    "\n",
    "**Less efficient way**\n",
    "```python\n",
    "mystring = 'hello'\n",
    "mylist = []\n",
    "for letter in mystring:\n",
    "  mylist.append(letter)\n",
    "```\n",
    "\n",
    "**More efficient way**\n",
    "```python\n",
    "mystring = 'hello'\n",
    "mylist = [letter for letter in mystring] # ['h', 'e', 'l', 'l', 'o']\n",
    "\n",
    "mylist = [num for num in range(3,7)] # [3, 4, 5, 6]\n",
    "\n",
    "# getting square of each number between 1 - 5\n",
    "[num ** 2 for num in range(1,6)] # [1, 4, 9, 16, 25]\n",
    "\n",
    "# performing a conditional check: \n",
    "[x for x in range(10) if x % 2 == 0] # [0, 2, 4, 6, 8]\n",
    "\n",
    "# using else in these list comprehensions:\n",
    "results = [x if x % 2 == 0 else 'ODD' for x in range(0, 10)] # [0, 'ODD', 2, 'ODD', 4, 'ODD', 6, 'ODD', 8, 'ODD']\n",
    "\n",
    "# Nested loops\n",
    "[x*y for x in [2,4,6] for y in [1, 10, 100]] # [2, 20, 200, 4, 40, 400, 6, 60, 600]\n",
    "```"
   ]
  },
  {
   "cell_type": "code",
   "execution_count": 17,
   "metadata": {},
   "outputs": [
    {
     "data": {
      "text/plain": [
       "[0, 'ODD', 2, 'ODD', 4, 'ODD', 6, 'ODD', 8, 'ODD']"
      ]
     },
     "execution_count": 17,
     "metadata": {},
     "output_type": "execute_result"
    }
   ],
   "source": [
    "# using else in these list comprehensions:\n",
    "results = [x if x % 2 == 0 else 'ODD' for x in range(0, 10)]\n",
    "results"
   ]
  },
  {
   "cell_type": "code",
   "execution_count": 18,
   "metadata": {},
   "outputs": [
    {
     "data": {
      "text/plain": [
       "[2, 20, 200, 4, 40, 400, 6, 60, 600]"
      ]
     },
     "execution_count": 18,
     "metadata": {},
     "output_type": "execute_result"
    }
   ],
   "source": [
    "# Nested loops\n",
    "[x*y for x in [2,4,6] for y in [1, 10, 100]]"
   ]
  },
  {
   "cell_type": "code",
   "execution_count": null,
   "metadata": {},
   "outputs": [],
   "source": []
  }
 ],
 "metadata": {
  "kernelspec": {
   "display_name": "Python 3.10.0 64-bit ('3.10.0')",
   "language": "python",
   "name": "python3"
  },
  "language_info": {
   "codemirror_mode": {
    "name": "ipython",
    "version": 3
   },
   "file_extension": ".py",
   "mimetype": "text/x-python",
   "name": "python",
   "nbconvert_exporter": "python",
   "pygments_lexer": "ipython3",
   "version": "3.10.0"
  },
  "orig_nbformat": 4,
  "vscode": {
   "interpreter": {
    "hash": "31f06c7659a94ccc17dc41d02973ee9ccff40e08f7add52156763fb2843538fe"
   }
  }
 },
 "nbformat": 4,
 "nbformat_minor": 2
}
