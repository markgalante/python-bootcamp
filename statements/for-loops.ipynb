{
 "cells": [
  {
   "cell_type": "markdown",
   "metadata": {},
   "source": [
    "# For-Loops\n",
    "\n",
    "### Syntax\n",
    "```python\n",
    "team = [\"Mark\", \"Erez\", \"Shai\", \"Martin\", \"Xola\"]\n",
    "for person in team:\n",
    "  print(person)\n",
    "```\n",
    "\n",
    "#### When not using the name of the variables, use `_`:\n",
    "```python\n",
    "for _ in list:\n",
    "  #Do something\n",
    "```\n",
    "\n",
    "### Can also be used with Tuples:\n",
    "```python\n",
    "my_tuple = (1,2,3)\n",
    "for i in my_tuple:\n",
    "  print(i)\n",
    "```\n",
    "\n",
    "Tuple unpacking - **common** data structure: \n",
    "```python\n",
    "mylist = [(1,2), (3,4), (5,6), (7,8)]\n",
    "len(mylist) # 4\n",
    "for item in mylist:\n",
    "  print(item) \n",
    "\n",
    "for (a,b) in mylist: # You don't need the brackets\n",
    "  print(a)\n",
    "  print(b)\n",
    "```\n",
    "\n",
    "### Iterating through dictionaries:\n",
    "```python\n",
    "d = {'k1': 1, 'k2': 2, 'k3': 3, 'k4': 4}\n",
    "\n",
    "for key, value in d:\n",
    "  print(value) # prints 1, 2, 3, 4\n",
    "  print(key) # prints 'k1', 'k2', 'k3', 'k4'\n",
    "\n",
    "for key in d.items():\n",
    "  print(key)\n",
    "# Prints: \n",
    "('k1', 1)\n",
    "('k2', 2)\n",
    "('k3', 3)\n",
    "('k4', 4)\n",
    "\n",
    "for key in d.values():\n",
    "  print(key)\n",
    "# Prints\n",
    "1\n",
    "2\n",
    "3\n",
    "4\n",
    "\n",
    "for key in d.keys():\n",
    "  print(key)\n",
    "#Prints: \n",
    "k1\n",
    "k2\n",
    "k3\n",
    "k4\n",
    "\n",
    "\n",
    "```\n"
   ]
  },
  {
   "cell_type": "code",
   "execution_count": 6,
   "metadata": {},
   "outputs": [
    {
     "name": "stdout",
     "output_type": "stream",
     "text": [
      "Mark\n",
      "Shai\n",
      "Erez\n",
      "Martin\n",
      "Xola\n"
     ]
    }
   ],
   "source": [
    "team = [\"Mark\", \"Shai\", \"Erez\", \"Martin\", \"Xola\"]\n",
    "for person in team:\n",
    "  print(person)"
   ]
  },
  {
   "cell_type": "code",
   "execution_count": 7,
   "metadata": {},
   "outputs": [
    {
     "data": {
      "text/plain": [
       "[1, 2, 3, 4, 5, 6, 7, 8, 9, 10]"
      ]
     },
     "execution_count": 7,
     "metadata": {},
     "output_type": "execute_result"
    }
   ],
   "source": [
    "my_list = []\n",
    "for i in range(10):\n",
    "  my_list.append(i+1)\n",
    "my_list"
   ]
  },
  {
   "cell_type": "code",
   "execution_count": 11,
   "metadata": {},
   "outputs": [
    {
     "data": {
      "text/plain": [
       "55"
      ]
     },
     "execution_count": 11,
     "metadata": {},
     "output_type": "execute_result"
    }
   ],
   "source": [
    "sum = 0\n",
    "for num in my_list:\n",
    "  sum += num\n",
    "\n",
    "sum"
   ]
  },
  {
   "cell_type": "code",
   "execution_count": 14,
   "metadata": {},
   "outputs": [
    {
     "name": "stdout",
     "output_type": "stream",
     "text": [
      "1\n",
      "2\n",
      "3\n"
     ]
    }
   ],
   "source": [
    "my_tup = (1,2,3)\n",
    "for i in my_tup:\n",
    "  print(i)"
   ]
  },
  {
   "cell_type": "code",
   "execution_count": 17,
   "metadata": {},
   "outputs": [
    {
     "name": "stdout",
     "output_type": "stream",
     "text": [
      "2\n",
      "4\n",
      "6\n",
      "8\n",
      "10\n"
     ]
    }
   ],
   "source": [
    "mylist = [(1,2), (3,4), (5,6), (7,8), (9, 10)]\n",
    "for a,b in mylist:\n",
    "  print(b)"
   ]
  },
  {
   "cell_type": "code",
   "execution_count": 26,
   "metadata": {},
   "outputs": [
    {
     "name": "stdout",
     "output_type": "stream",
     "text": [
      "k1\n",
      "k2\n",
      "k3\n",
      "k4\n"
     ]
    }
   ],
   "source": [
    "d = {'k1': 1, 'k2': 2, 'k3': 3, 'k4': 4}\n",
    "\n",
    "for key in d.keys():\n",
    "  print(key)"
   ]
  },
  {
   "cell_type": "code",
   "execution_count": null,
   "metadata": {},
   "outputs": [],
   "source": []
  }
 ],
 "metadata": {
  "kernelspec": {
   "display_name": "Python 3.10.0 64-bit ('3.10.0')",
   "language": "python",
   "name": "python3"
  },
  "language_info": {
   "codemirror_mode": {
    "name": "ipython",
    "version": 3
   },
   "file_extension": ".py",
   "mimetype": "text/x-python",
   "name": "python",
   "nbconvert_exporter": "python",
   "pygments_lexer": "ipython3",
   "version": "3.10.0"
  },
  "orig_nbformat": 4,
  "vscode": {
   "interpreter": {
    "hash": "31f06c7659a94ccc17dc41d02973ee9ccff40e08f7add52156763fb2843538fe"
   }
  }
 },
 "nbformat": 4,
 "nbformat_minor": 2
}
