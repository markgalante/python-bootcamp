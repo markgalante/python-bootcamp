{
 "cells": [
  {
   "cell_type": "markdown",
   "metadata": {},
   "source": [
    "# Files (.txt)\n",
    "```python\n",
    "%%writefile myfile.txt\n",
    "Hello, this is a text file. \n",
    "This is the second line.\n",
    "This is the third line.\n",
    "```\n",
    "\n",
    "### Seeing if file exists:\n",
    "```python\n",
    "myfile = open('mytext.txt')\n",
    "# <_io.TextIOWrapper name='mytext.txt' mode='r' encoding='UTF-8'>\n",
    "\n",
    "myfile = open('mytexts.txt')\n",
    "# FileNotFoundError\n",
    "```\n",
    "\n",
    "### Seeing where you are currently: \n",
    "```python\n",
    "# Print Working Directory\n",
    "pwd # '/Users/markgalante/Desktop/python'\n",
    "```\n",
    "\n",
    "### Reading the text file `.read()`\n",
    "```python\n",
    "myfile = open('mytext.txt')\n",
    "myfile.read() # 'Hello, this is a text file.\\nThis is the second line.\\nThis is the third line.\\n'\n",
    "myfile.read() # '' <- this is because the first call sent the \"curser\" all the way to the end. so you need to reset it.\n",
    "myfile.seek(0) # RESET the curser back to the start\n",
    "myfile.read() # 'Hello, this is a text file.\\nThis is the second line.\\nThis is the third line.\\n'\n",
    "```\n",
    "\n",
    "### Reading a text file on different lines: `readlines()`\n",
    "```python\n",
    "myfile.readlines()\n",
    "#['Hello, this is a text file.\\n',\n",
    "# 'This is the second line.\\n',\n",
    "# 'This is the third line.\\n']\n",
    "```\n",
    "\n",
    "### Opening files in different directories:\n",
    "```python\n",
    "myfile = open('/Users/markgalante/Documents/GitLab/yoco-payment-page/docs/ServerSideRendering.md')\n",
    "myfile.readlines()\n",
    "```\n",
    "\n",
    "### Closing\n",
    "```python\n",
    "myfile.close()\n",
    "```\n",
    "\n",
    "### Only running methods on when file when open: \n",
    "```python\n",
    "# Avoiding errors with files not being closed \n",
    "with open('mytext.txt') as my_new_file:\n",
    "  contents = my_new_file.read()\n",
    "```\n",
    "`with open('FILE_NAME) as my_new_file`\n",
    "\n",
    "### Writing to a file\n",
    "In the `open` method, there is a `mode` with the default `r` for ***read***.<br>\n",
    "There's also a value for `w` for ***write*** which **overrides** and existing file OR creates a new one<br>\n",
    "Another mode option is `a` which is to ***add*** onto files.<br>\n",
    "`mode='r+'` is for reading **and** writing.<br>\n",
    "`mode='w+'` is for writing and reading (***overwrites*** existing files **or** creates a new file)<br>"
   ]
  },
  {
   "cell_type": "code",
   "execution_count": null,
   "metadata": {},
   "outputs": [],
   "source": []
  },
  {
   "cell_type": "code",
   "execution_count": 1,
   "metadata": {},
   "outputs": [
    {
     "name": "stdout",
     "output_type": "stream",
     "text": [
      "Writing mytext.txt\n"
     ]
    }
   ],
   "source": [
    "%%writefile mytext.txt\n",
    "Hello, this is a text file.\n",
    "This is the second line.\n",
    "This is the third line."
   ]
  },
  {
   "cell_type": "code",
   "execution_count": 8,
   "metadata": {},
   "outputs": [
    {
     "data": {
      "text/plain": [
       "'Hello, this is a text file.\\nThis is the second line.\\nThis is the third line.\\n'"
      ]
     },
     "execution_count": 8,
     "metadata": {},
     "output_type": "execute_result"
    }
   ],
   "source": [
    "myfile = open('mytext.txt')\n",
    "myfile.read()"
   ]
  },
  {
   "cell_type": "code",
   "execution_count": 13,
   "metadata": {},
   "outputs": [
    {
     "data": {
      "text/plain": [
       "'Hello, this is a text file.\\nThis is the second line.\\nThis is the third line.\\n'"
      ]
     },
     "execution_count": 13,
     "metadata": {},
     "output_type": "execute_result"
    }
   ],
   "source": [
    "myfile.seek(0) # resets the curser\n",
    "contents = myfile.read()\n",
    "contents"
   ]
  },
  {
   "cell_type": "code",
   "execution_count": 17,
   "metadata": {},
   "outputs": [
    {
     "data": {
      "text/plain": [
       "'Hello, this is a text file.\\n'"
      ]
     },
     "execution_count": 17,
     "metadata": {},
     "output_type": "execute_result"
    }
   ],
   "source": [
    "myfile.seek(0)\n",
    "contents = myfile.readlines()\n",
    "contents[0]"
   ]
  },
  {
   "cell_type": "code",
   "execution_count": 21,
   "metadata": {},
   "outputs": [
    {
     "data": {
      "text/plain": [
       "['# Server Side Rendering\\n',\n",
       " 'This application uses server side template substitution to inject data into the client before rendering the content on the client.\\n',\n",
       " 'The basic flow is as follows:\\n',\n",
       " '1. The endpoints in `server/app.py` populate the template variables in the `client/public/index.html` file\\n',\n",
       " '2. There is a script tag in the index.html file that binds the substituted variable to the window object\\n',\n",
       " '3. When the client side is loaded the variables on the window object are used as initial state for the redux reducers\\n',\n",
       " '\\n',\n",
       " 'Example (Payment Page):\\n',\n",
       " '1. `app.py`\\n',\n",
       " '```python\\n',\n",
       " \"    return render_template('index.html', data={\\n\",\n",
       " \"        'meta': get_meta_tags_data(merchant_data=merchant_data),\\n\",\n",
       " \"        'merchantData': merchant_data,\\n\",\n",
       " \"        'onlineGatewayURL': online_url,\\n\",\n",
       " \"        'sdkURL': get_sdk_url(),\\n\",\n",
       " \"        'rootURL': get_public_url(),\\n\",\n",
       " \"        'path': path,\\n\",\n",
       " \"        'businessDetails': {},\\n\",\n",
       " \"        'checkoutLink': {},\\n\",\n",
       " \"        'environment': ENVIRONMENT_NAME,\\n\",\n",
       " \"        'paymentRequest': {},\\n\",\n",
       " \"        'useBlackbird': blackbird_feature if blackbird_feature and not checkout_feature else False,\\n\",\n",
       " \"        'useCheckout': checkout_feature\\n\",\n",
       " '    })\\n',\n",
       " '```\\n',\n",
       " '2. `index.html`\\n',\n",
       " '```html\\n',\n",
       " '    <script type=\"text/javascript\">\\n',\n",
       " '      (function(data) {\\n',\n",
       " '        window.useCheckout = data;\\n',\n",
       " \"      })({{data.get('useCheckout', '')|tojson}});\\n\",\n",
       " '    </script>\\n',\n",
       " '```\\n',\n",
       " '3. reducer initial state (located under `client/services`)\\n',\n",
       " '```javascript\\n',\n",
       " 'const initialState = {\\n',\n",
       " '  checkout: window.checkoutLink || {},\\n',\n",
       " '  paymentRequest: window.paymentRequest || {},\\n',\n",
       " \"  paymentId: window.paymentId || '',\\n\",\n",
       " '  useBlackbird: window.useBlackbird || false,\\n',\n",
       " '  useCheckout: window.useCheckout || false,\\n',\n",
       " '  fetchingPaymentId: false,\\n',\n",
       " \"  paymentLinkHashId: window.paymentLinkHashId || '',\\n\",\n",
       " '  hasOnlineCheckoutId: window.hasOnlineCheckoutId || false,\\n',\n",
       " '};\\n',\n",
       " '```\\n']"
      ]
     },
     "execution_count": 21,
     "metadata": {},
     "output_type": "execute_result"
    }
   ],
   "source": [
    "myfile = open('/Users/markgalante/Documents/GitLab/yoco-payment-page/docs/ServerSideRendering.md')\n",
    "myfile.readlines()"
   ]
  },
  {
   "cell_type": "code",
   "execution_count": 28,
   "metadata": {},
   "outputs": [],
   "source": [
    "# Avoiding errors with files not being closed \n",
    "with open('mytext.txt') as my_new_file:\n",
    "  contents = my_new_file.read()"
   ]
  },
  {
   "cell_type": "code",
   "execution_count": 32,
   "metadata": {},
   "outputs": [
    {
     "data": {
      "text/plain": [
       "['Hello, this is a text file.\\n',\n",
       " 'This is the second line.\\n',\n",
       " 'This is the third line.\\n']"
      ]
     },
     "execution_count": 32,
     "metadata": {},
     "output_type": "execute_result"
    }
   ],
   "source": [
    "contents"
   ]
  },
  {
   "cell_type": "code",
   "execution_count": 35,
   "metadata": {},
   "outputs": [
    {
     "ename": "UnsupportedOperation",
     "evalue": "not readable",
     "output_type": "error",
     "traceback": [
      "\u001b[0;31m---------------------------------------------------------------------------\u001b[0m",
      "\u001b[0;31mUnsupportedOperation\u001b[0m                      Traceback (most recent call last)",
      "Cell \u001b[0;32mIn [35], line 2\u001b[0m\n\u001b[1;32m      1\u001b[0m \u001b[39mwith\u001b[39;00m \u001b[39mopen\u001b[39m(\u001b[39m'\u001b[39m\u001b[39mmytext.txt\u001b[39m\u001b[39m'\u001b[39m, mode\u001b[39m=\u001b[39m\u001b[39m'\u001b[39m\u001b[39mw\u001b[39m\u001b[39m'\u001b[39m) \u001b[39mas\u001b[39;00m file_to_write:\n\u001b[0;32m----> 2\u001b[0m   contents \u001b[39m=\u001b[39m file_to_write\u001b[39m.\u001b[39;49mread()\n",
      "\u001b[0;31mUnsupportedOperation\u001b[0m: not readable"
     ]
    }
   ],
   "source": [
    "with open('mytext.txt', mode='w') as file_to_write:\n",
    "  contents = file_to_write.wr"
   ]
  },
  {
   "cell_type": "code",
   "execution_count": 34,
   "metadata": {},
   "outputs": [
    {
     "data": {
      "text/plain": [
       "'Hello, this is a text file.\\nThis is the second line.\\nThis is the third line.\\n'"
      ]
     },
     "execution_count": 34,
     "metadata": {},
     "output_type": "execute_result"
    }
   ],
   "source": [
    "contents"
   ]
  },
  {
   "cell_type": "code",
   "execution_count": 41,
   "metadata": {},
   "outputs": [
    {
     "name": "stdout",
     "output_type": "stream",
     "text": [
      "Overwriting my_new_file.txt\n"
     ]
    }
   ],
   "source": [
    "%%writefile my_new_file.txt\n",
    "ONE ON FIRST\n",
    "TWO ON SECOND\n",
    "THREE ON THIRD"
   ]
  },
  {
   "cell_type": "code",
   "execution_count": 52,
   "metadata": {},
   "outputs": [
    {
     "name": "stdout",
     "output_type": "stream",
     "text": [
      "Now I write something else\n",
      "FOUR ON FOURTH\n"
     ]
    }
   ],
   "source": [
    "with open('my_new_file.txt', mode='r') as f:\n",
    "  print(f.read())"
   ]
  },
  {
   "cell_type": "code",
   "execution_count": 51,
   "metadata": {},
   "outputs": [],
   "source": [
    "with open('my_new_file.txt', mode='a') as f:\n",
    "  f.write('\\nFOUR ON FOURTH')"
   ]
  },
  {
   "cell_type": "code",
   "execution_count": 57,
   "metadata": {},
   "outputs": [
    {
     "ename": "FileNotFoundError",
     "evalue": "[Errno 2] No such file or directory: '/Users/markgalante/Desktop/python/files/my_new_file.txt'",
     "output_type": "error",
     "traceback": [
      "\u001b[0;31m---------------------------------------------------------------------------\u001b[0m",
      "\u001b[0;31mFileNotFoundError\u001b[0m                         Traceback (most recent call last)",
      "Cell \u001b[0;32mIn [57], line 1\u001b[0m\n\u001b[0;32m----> 1\u001b[0m \u001b[39mwith\u001b[39;00m \u001b[39mopen\u001b[39;49m(\u001b[39m'\u001b[39;49m\u001b[39m/Users/markgalante/Desktop/python/files/my_new_file.txt\u001b[39;49m\u001b[39m'\u001b[39;49m, mode\u001b[39m=\u001b[39;49m\u001b[39m'\u001b[39;49m\u001b[39mw\u001b[39;49m\u001b[39m'\u001b[39;49m) \u001b[39mas\u001b[39;00m f:\n\u001b[1;32m      2\u001b[0m   f\u001b[39m.\u001b[39mwrite(\u001b[39m'\u001b[39m\u001b[39mNow I write something else\u001b[39m\u001b[39m'\u001b[39m)\n",
      "\u001b[0;31mFileNotFoundError\u001b[0m: [Errno 2] No such file or directory: '/Users/markgalante/Desktop/python/files/my_new_file.txt'"
     ]
    }
   ],
   "source": [
    "with open('my_new_file.txt', mode='w') as f:\n",
    "  f.write('Now I write something else')"
   ]
  },
  {
   "cell_type": "code",
   "execution_count": 53,
   "metadata": {},
   "outputs": [],
   "source": [
    "with open('another_file.py', mode='w') as f:\n",
    "  f.write('print(\"hello world\")')"
   ]
  },
  {
   "cell_type": "code",
   "execution_count": 54,
   "metadata": {},
   "outputs": [
    {
     "name": "stdout",
     "output_type": "stream",
     "text": [
      "print(\"hello world\")\n"
     ]
    }
   ],
   "source": [
    "with open('another_file.py', mode='r') as f:\n",
    "  print(f.read())"
   ]
  },
  {
   "cell_type": "code",
   "execution_count": 56,
   "metadata": {},
   "outputs": [
    {
     "data": {
      "text/plain": [
       "'/Users/markgalante/Desktop/python'"
      ]
     },
     "execution_count": 56,
     "metadata": {},
     "output_type": "execute_result"
    }
   ],
   "source": [
    "pwd "
   ]
  },
  {
   "cell_type": "code",
   "execution_count": null,
   "metadata": {},
   "outputs": [],
   "source": []
  }
 ],
 "metadata": {
  "kernelspec": {
   "display_name": "Python 3.10.0 64-bit ('3.10.0')",
   "language": "python",
   "name": "python3"
  },
  "language_info": {
   "codemirror_mode": {
    "name": "ipython",
    "version": 3
   },
   "file_extension": ".py",
   "mimetype": "text/x-python",
   "name": "python",
   "nbconvert_exporter": "python",
   "pygments_lexer": "ipython3",
   "version": "3.10.0"
  },
  "orig_nbformat": 4,
  "vscode": {
   "interpreter": {
    "hash": "31f06c7659a94ccc17dc41d02973ee9ccff40e08f7add52156763fb2843538fe"
   }
  }
 },
 "nbformat": 4,
 "nbformat_minor": 2
}
