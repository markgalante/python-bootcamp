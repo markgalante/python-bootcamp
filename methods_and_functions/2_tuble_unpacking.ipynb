{
 "cells": [
  {
   "cell_type": "markdown",
   "metadata": {},
   "source": [
    "# Tuple Unpacking\n",
    "\n",
    "```python\n",
    "work_hours = [(\"Abby\", 100), (\"Billy\", 400), (\"Cassy\", 800)]\n",
    "def calculate_employee_of_the_month(work_hours = []):\n",
    "  current_max = 0\n",
    "  top_employee = ''\n",
    "  for employee, hours in work_hours:\n",
    "    if hours > current_max:\n",
    "      current_max = hours\n",
    "      top_employee = employee\n",
    "  return (top_employee, current_max)\n",
    "\n",
    "result = calculate_employee_of_the_month(work_hours)\n",
    "name, hours = result\n",
    "print(name) # Cassy\n",
    "print(hours) # 800\n",
    "```"
   ]
  },
  {
   "cell_type": "code",
   "execution_count": 7,
   "metadata": {},
   "outputs": [
    {
     "name": "stdout",
     "output_type": "stream",
     "text": [
      "330.0\n",
      "275.0\n",
      "220.00000000000003\n"
     ]
    }
   ],
   "source": [
    "stocks_list = [(\"APL\", 300), (\"ALPHA\", 250), (\"MSFT\", 200)]\n",
    "for stock, price in stocks_list:\n",
    "  print(price * 1.1)"
   ]
  },
  {
   "cell_type": "code",
   "execution_count": 15,
   "metadata": {},
   "outputs": [
    {
     "name": "stdout",
     "output_type": "stream",
     "text": [
      "Cassy\n",
      "800\n"
     ]
    }
   ],
   "source": [
    "work_hours = [(\"Abby\", 100), (\"Billy\", 400), (\"Cassy\", 800)]\n",
    "def calculate_employee_of_the_month(work_hours = []):\n",
    "  current_max = 0\n",
    "  top_employee = ''\n",
    "  for employee, hours in work_hours:\n",
    "    if hours > current_max:\n",
    "      current_max = hours\n",
    "      top_employee = employee\n",
    "  return (top_employee, current_max)\n",
    "\n",
    "result = calculate_employee_of_the_month(work_hours)\n",
    "name, hours = result\n",
    "print(name)\n",
    "print(hours)\n"
   ]
  },
  {
   "cell_type": "code",
   "execution_count": null,
   "metadata": {},
   "outputs": [],
   "source": []
  }
 ],
 "metadata": {
  "kernelspec": {
   "display_name": "Python 3.10.0 64-bit ('3.10.0')",
   "language": "python",
   "name": "python3"
  },
  "language_info": {
   "codemirror_mode": {
    "name": "ipython",
    "version": 3
   },
   "file_extension": ".py",
   "mimetype": "text/x-python",
   "name": "python",
   "nbconvert_exporter": "python",
   "pygments_lexer": "ipython3",
   "version": "3.10.0"
  },
  "orig_nbformat": 4,
  "vscode": {
   "interpreter": {
    "hash": "31f06c7659a94ccc17dc41d02973ee9ccff40e08f7add52156763fb2843538fe"
   }
  }
 },
 "nbformat": 4,
 "nbformat_minor": 2
}
