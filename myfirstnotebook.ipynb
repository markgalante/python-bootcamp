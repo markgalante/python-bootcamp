{
 "cells": [
  {
   "cell_type": "code",
   "execution_count": 111,
   "id": "31399304",
   "metadata": {},
   "outputs": [],
   "source": [
    "animal = \"The {f}{f}{f} {f} {f}\""
   ]
  },
  {
   "cell_type": "code",
   "execution_count": 112,
   "id": "df5007af",
   "metadata": {},
   "outputs": [
    {
     "name": "stdout",
     "output_type": "stream",
     "text": [
      "The FoxFoxFox Fox Fox\n"
     ]
    }
   ],
   "source": [
    "print(animal.format(b='Brown', f='Fox', q='Quick'))"
   ]
  },
  {
   "cell_type": "code",
   "execution_count": 130,
   "id": "882597b4",
   "metadata": {},
   "outputs": [
    {
     "name": "stdout",
     "output_type": "stream",
     "text": [
      "The result is 0\n"
     ]
    }
   ],
   "source": [
    "my_float = 100/700\n",
    "my_float\n",
    "print('The result is {res:1.0f}'.format(res = my_float))"
   ]
  },
  {
   "cell_type": "code",
   "execution_count": 132,
   "id": "5129ece6",
   "metadata": {},
   "outputs": [
    {
     "name": "stdout",
     "output_type": "stream",
     "text": [
      "Mark is 30 years old\n"
     ]
    }
   ],
   "source": [
    "age = 3\n",
    "name = \"Mark\"\n",
    "print(f'{name} is {3*10} years old')"
   ]
  },
  {
   "cell_type": "code",
   "execution_count": 3,
   "id": "f318d439",
   "metadata": {},
   "outputs": [
    {
     "name": "stdout",
     "output_type": "stream",
     "text": [
      "[' ', ' ', ' ']\n",
      "[' ', 'X', ' ']\n",
      "[' ', ' ', ' ']\n"
     ]
    }
   ],
   "source": [
    "def display(row1, row2, row3):\n",
    "    print(row1)\n",
    "    print(row2)\n",
    "    print(row3)\n",
    "\n",
    "row1 = [' ', ' ', ' ']\n",
    "row2 = [' ', ' ', ' ']\n",
    "row3 = [' ', ' ', ' '] \n",
    "\n",
    "display(row1, row2, row3)"
   ]
  },
  {
   "cell_type": "code",
   "execution_count": 13,
   "id": "aae2fc4a",
   "metadata": {},
   "outputs": [
    {
     "data": {
      "text/plain": [
       "int"
      ]
     },
     "execution_count": 13,
     "metadata": {},
     "output_type": "execute_result"
    }
   ],
   "source": [
    "age = int(input('What is your age?'))\n",
    "type(age)\n"
   ]
  },
  {
   "cell_type": "code",
   "execution_count": 11,
   "id": "60add9e8",
   "metadata": {},
   "outputs": [
    {
     "data": {
      "text/plain": [
       "int"
      ]
     },
     "execution_count": 11,
     "metadata": {},
     "output_type": "execute_result"
    }
   ],
   "source": [
    "type(34)"
   ]
  },
  {
   "cell_type": "code",
   "execution_count": 14,
   "id": "1350732b",
   "metadata": {},
   "outputs": [],
   "source": [
    "def user_choice():\n",
    "    choice = input('Please enter a number 0 - 10:')\n",
    "    return int(choice)"
   ]
  },
  {
   "cell_type": "code",
   "execution_count": 15,
   "id": "da46efe5",
   "metadata": {},
   "outputs": [
    {
     "data": {
      "text/plain": [
       "4"
      ]
     },
     "execution_count": 15,
     "metadata": {},
     "output_type": "execute_result"
    }
   ],
   "source": [
    "user_choice()"
   ]
  },
  {
   "cell_type": "code",
   "execution_count": null,
   "id": "f515cea0",
   "metadata": {},
   "outputs": [],
   "source": []
  },
  {
   "cell_type": "code",
   "execution_count": 40,
   "id": "4a56d7c2",
   "metadata": {},
   "outputs": [],
   "source": [
    "def user_choice():\n",
    "    choice = 'None'\n",
    "    acceptable_values = ['0','1','2','3','4','5','6','7','8','9','10']\n",
    "    while choice.isdigit() == False or choice not in acceptable_values:\n",
    "        choice = input('Please enter a number 0 - 10:')\n",
    "        if choice.isdigit() == False:\n",
    "            print('This is not a digit')\n",
    "        elif choice not in acceptable_values:\n",
    "            print('This is not a valid number')\n",
    "    return int(choice)"
   ]
  },
  {
   "cell_type": "code",
   "execution_count": 41,
   "id": "5de753bd",
   "metadata": {},
   "outputs": [
    {
     "name": "stdout",
     "output_type": "stream",
     "text": [
      "This is not a digit\n",
      "This is not a digit\n",
      "This is not a valid number\n"
     ]
    },
    {
     "data": {
      "text/plain": [
       "3"
      ]
     },
     "execution_count": 41,
     "metadata": {},
     "output_type": "execute_result"
    }
   ],
   "source": [
    "user_choice()"
   ]
  },
  {
   "cell_type": "code",
   "execution_count": 53,
   "id": "12a7cd29",
   "metadata": {},
   "outputs": [],
   "source": [
    "def user_choice():\n",
    "    choice = 'None'\n",
    "    acceptable_range = range(0,10)\n",
    "    is_within_range = False\n",
    "\n",
    "\n",
    "    while choice.isdigit() == False or is_within_range == False:\n",
    "        choice = input('Please enter a number 0 - 10:')\n",
    "\n",
    "        ## DIGIT CHECK\n",
    "        if choice.isdigit() == False:\n",
    "            print('This is not a digit')\n",
    "        ## RANGE CHECK\n",
    "        elif int(choice) in acceptable_range and choice.isdigit() == True:\n",
    "            is_within_range = True\n",
    "        else: \n",
    "            is_within_range = False\n",
    "    return int(choice)"
   ]
  },
  {
   "cell_type": "code",
   "execution_count": 54,
   "id": "94c364fa",
   "metadata": {},
   "outputs": [
    {
     "name": "stdout",
     "output_type": "stream",
     "text": [
      "This is not a digit\n",
      "This is not a digit\n"
     ]
    },
    {
     "data": {
      "text/plain": [
       "3"
      ]
     },
     "execution_count": 54,
     "metadata": {},
     "output_type": "execute_result"
    }
   ],
   "source": [
    "user_choice()"
   ]
  },
  {
   "cell_type": "code",
   "execution_count": 58,
   "id": "0b9af592",
   "metadata": {},
   "outputs": [
    {
     "data": {
      "text/plain": [
       "True"
      ]
     },
     "execution_count": 58,
     "metadata": {},
     "output_type": "execute_result"
    }
   ],
   "source": [
    "100 in range(0,101)"
   ]
  },
  {
   "cell_type": "code",
   "execution_count": 56,
   "id": "9b9918fa",
   "metadata": {},
   "outputs": [
    {
     "data": {
      "text/plain": [
       "'Galante'"
      ]
     },
     "execution_count": 56,
     "metadata": {},
     "output_type": "execute_result"
    }
   ],
   "source": []
  },
  {
   "cell_type": "code",
   "execution_count": 59,
   "id": "3e17e746",
   "metadata": {},
   "outputs": [],
   "source": [
    "game_list = [0,1,2]"
   ]
  },
  {
   "cell_type": "code",
   "execution_count": 15,
   "id": "2a639deb",
   "metadata": {},
   "outputs": [],
   "source": [
    "def display_game(game_list):\n",
    "    print('Here is the current list: ')\n",
    "    print(game_list)"
   ]
  },
  {
   "cell_type": "code",
   "execution_count": 17,
   "id": "37b4be42",
   "metadata": {},
   "outputs": [],
   "source": [
    "def position_choice():\n",
    "    choice = 'Wrong'\n",
    "    acceptable_value = ['0', '1', '2']\n",
    "    while choice not in acceptable_value:\n",
    "        choice = input('Pick a position [0,1,2]: ')\n",
    "        if choice not in acceptable_value:\n",
    "            print('Sorry, invalid choice')\n",
    "    return int(choice)"
   ]
  },
  {
   "cell_type": "code",
   "execution_count": 18,
   "id": "9fd5ea80",
   "metadata": {},
   "outputs": [],
   "source": [
    "def replacement_choice(game_list, position):\n",
    "    user_placement = input('Type a string to place at position: ')\n",
    "    game_list[position] = user_placement \n",
    "    return game_list"
   ]
  },
  {
   "cell_type": "code",
   "execution_count": 11,
   "id": "61b04636",
   "metadata": {},
   "outputs": [],
   "source": [
    "from IPython.display import clear_output\n",
    "def game_on_choice():\n",
    "    choice = 'Wrong'\n",
    "    choice_options = ['Y', 'N']\n",
    "    while choice not in choice_options:\n",
    "        choice = input('Do you want to play again? (Y/N)').upper()\n",
    "        if choice not in choice_options:\n",
    "            clear_output()\n",
    "            print('Invalid choice. Please choose Y or N')\n",
    "    if choice == 'Y':\n",
    "        return True\n",
    "    else:\n",
    "        return False"
   ]
  },
  {
   "cell_type": "markdown",
   "id": "027f346e",
   "metadata": {},
   "source": []
  },
  {
   "cell_type": "code",
   "execution_count": null,
   "id": "f8bbc4eb",
   "metadata": {},
   "outputs": [],
   "source": [
    "game_on = True\n",
    "game_list = [0,1,2]\n",
    "while game_on:\n",
    "    display_game(game_list)\n",
    "    position = position_choice()\n",
    "    game_list = replacement_choice(game_list, position)\n",
    "    display_game(game_list)\n",
    "    game_on = game_on_choice()\n"
   ]
  },
  {
   "cell_type": "code",
   "execution_count": null,
   "id": "f6c4865a",
   "metadata": {},
   "outputs": [],
   "source": []
  }
 ],
 "metadata": {
  "kernelspec": {
   "display_name": "Python 3.11.0 64-bit",
   "language": "python",
   "name": "python3"
  },
  "language_info": {
   "codemirror_mode": {
    "name": "ipython",
    "version": 3
   },
   "file_extension": ".py",
   "mimetype": "text/x-python",
   "name": "python",
   "nbconvert_exporter": "python",
   "pygments_lexer": "ipython3",
   "version": "3.11.0"
  },
  "vscode": {
   "interpreter": {
    "hash": "e165a88452cfbfdb3c14004368119bdf10c64e870b40dbb2fb8f4c58d59e6df4"
   }
  }
 },
 "nbformat": 4,
 "nbformat_minor": 5
}
