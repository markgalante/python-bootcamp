{
 "cells": [
  {
   "cell_type": "markdown",
   "metadata": {},
   "source": [
    "# Tuples\n",
    "\n",
    "- ordered - ***like*** lists\n",
    "- immutable (elements cannot be re-assigned) - ***unlike*** lists\n",
    "\n",
    "```python\n",
    "t = (1,2,3)\n",
    "my_list = [1,2,3]\n",
    "type(t) # tuple\n",
    "type(my_list)\n",
    "```\n",
    "\n",
    "### Checking length:\n",
    "```python\n",
    "t = (1,2,3)\n",
    "len(t) # 3\n",
    "```\n",
    "\n",
    "### Different types in a tuple\n",
    "```python\n",
    "t = ('one', 2)\n",
    "```\n",
    "\n",
    "### Slicing and indexing\n",
    "```python\n",
    "t = ('one', 2)\n",
    "t[0] # 'one'\n",
    "t[-1] # 2\n",
    "```\n",
    "\n",
    "### Index\n",
    "```python\n",
    "t = ('a', 'a', 'b')\n",
    "t.index('a') # 0 - the FIRST time 'a' appears\n",
    "t.index('b') # 2\n",
    "```\n",
    "\n",
    "### Count\n",
    "```python\n",
    "t = ('a', 'a', 'b')\n",
    "t.count('a') # 2\n",
    "```\n",
    "\n",
    "### Immutability \n",
    "```python\n",
    "t = ('a', 'a', 'b')\n",
    "t[0] = 'New' # TypeError!\n",
    "```"
   ]
  },
  {
   "cell_type": "code",
   "execution_count": 1,
   "metadata": {},
   "outputs": [],
   "source": [
    "t = ('January', 'February', 'March', 'April', [1,2,3], [1,2,3], {'foo': 'bar'})"
   ]
  },
  {
   "cell_type": "code",
   "execution_count": 4,
   "metadata": {},
   "outputs": [
    {
     "name": "stdout",
     "output_type": "stream",
     "text": [
      "January\n",
      "February\n",
      "{'foo': 'bar'}\n",
      "[1, 2, 3]\n",
      "([1, 2, 3], [1, 2, 3], {'foo': 'bar'})\n",
      "([1, 2, 3], [1, 2, 3])\n"
     ]
    }
   ],
   "source": [
    "print(t[0]) # January\n",
    "print(t[1]) # February\n",
    "print(t[-1]) # {'foo': 'bar'}\n",
    "print(t[-2]) # [1, 2, 3]\n",
    "print(t[4::]) # ([1, 2, 3], [1, 2, 3], {'foo': 'bar'})\n",
    "print(t[4:6:]) # ([1, 2, 3], [1, 2, 3])"
   ]
  },
  {
   "cell_type": "code",
   "execution_count": 6,
   "metadata": {},
   "outputs": [
    {
     "data": {
      "text/plain": [
       "4"
      ]
     },
     "execution_count": 6,
     "metadata": {},
     "output_type": "execute_result"
    }
   ],
   "source": [
    "t.index([1,2,3]) # 4"
   ]
  },
  {
   "cell_type": "code",
   "execution_count": 7,
   "metadata": {},
   "outputs": [
    {
     "data": {
      "text/plain": [
       "2"
      ]
     },
     "execution_count": 7,
     "metadata": {},
     "output_type": "execute_result"
    }
   ],
   "source": [
    "t.count([1,2,3]) # 2"
   ]
  }
 ],
 "metadata": {
  "kernelspec": {
   "display_name": "Python 3.10.0 64-bit ('3.10.0')",
   "language": "python",
   "name": "python3"
  },
  "language_info": {
   "codemirror_mode": {
    "name": "ipython",
    "version": 3
   },
   "file_extension": ".py",
   "mimetype": "text/x-python",
   "name": "python",
   "nbconvert_exporter": "python",
   "pygments_lexer": "ipython3",
   "version": "3.10.0"
  },
  "orig_nbformat": 4,
  "vscode": {
   "interpreter": {
    "hash": "31f06c7659a94ccc17dc41d02973ee9ccff40e08f7add52156763fb2843538fe"
   }
  }
 },
 "nbformat": 4,
 "nbformat_minor": 2
}
