{
 "cells": [
  {
   "cell_type": "markdown",
   "metadata": {},
   "source": [
    "# Tic Tac Toe\n"
   ]
  },
  {
   "cell_type": "code",
   "execution_count": 14,
   "metadata": {},
   "outputs": [],
   "source": [
    "from IPython.display import clear_output\n",
    "\n",
    "def determine_players():\n",
    "    player1 = ''\n",
    "    player2 = ''\n",
    "    acceptable_options = ['X', 'O']\n",
    "    while player1 not in acceptable_options:\n",
    "        option = input('Player 1, select an X or O').upper()\n",
    "        if option not in acceptable_options:\n",
    "            clear_output()\n",
    "            print('Please select either X or O')\n",
    "        else:\n",
    "            player1 = option\n",
    "    if player1 == 'X':\n",
    "        player2 = 'O'\n",
    "    else:\n",
    "        player2 = 'X'\n",
    "    clear_output()\n",
    "    return (player1, player2)"
   ]
  },
  {
   "cell_type": "code",
   "execution_count": 15,
   "metadata": {},
   "outputs": [],
   "source": [
    "from IPython.display import clear_output\n",
    "\n",
    "def determine_first_move():\n",
    "    choice = None\n",
    "    acceptable_options = ['X', 'O']\n",
    "    while choice not in acceptable_options:\n",
    "        selected_choice = input('Who goes first?').upper()\n",
    "        if selected_choice not in acceptable_options:\n",
    "            clear_output()\n",
    "            print('Please selected either X or O')\n",
    "        choice = selected_choice     \n",
    "    return choice\n"
   ]
  },
  {
   "cell_type": "code",
   "execution_count": 16,
   "metadata": {},
   "outputs": [],
   "source": [
    "def next_turn(turn):\n",
    "    if turn == 'X':\n",
    "        return 'Y'\n",
    "    else:\n",
    "        return 'X'"
   ]
  },
  {
   "cell_type": "code",
   "execution_count": 17,
   "metadata": {},
   "outputs": [],
   "source": [
    "def player_turn(turn, board):\n",
    "    choice = None\n",
    "    acceptable_options = ['1', '2', '3', '4', '5', '6', '7', '8', '9']\n",
    "    while choice is None:\n",
    "        new_choice = input(f'Player {turn}, what is your choice? (choose between 1-9)')\n",
    "        if new_choice not in acceptable_options:\n",
    "            print('Please select an option from 1-9')\n",
    "        elif board[int(new_choice)] != ' ':\n",
    "            print('This option has been taken')\n",
    "        else:\n",
    "            choice = int(new_choice)    \n",
    "    board[choice] = turn\n",
    "    next = next_turn(turn)\n",
    "    return (board, turn, next)"
   ]
  },
  {
   "cell_type": "code",
   "execution_count": 18,
   "metadata": {},
   "outputs": [],
   "source": [
    "def print_board(board_list):\n",
    "    print(f'{board_list[7]} | {board_list[8]} | {board_list[9]}')\n",
    "    print(f'{board_list[4]} | {board_list[5]} | {board_list[6]}')\n",
    "    print(f'{board_list[1]} | {board_list[2]} | {board_list[3]}')"
   ]
  },
  {
   "cell_type": "code",
   "execution_count": 19,
   "metadata": {},
   "outputs": [],
   "source": [
    "def determine_winner(board_list, last_move):\n",
    "    if(board_list[1] == board_list[2] == board_list[3] == last_move):\n",
    "        return (last_move, True)\n",
    "    elif(board_list[4] == board_list[5] == board_list[6] == last_move):\n",
    "        return (last_move, True)\n",
    "    elif(board_list[7] == board_list[8] == board_list[9] == last_move):\n",
    "        return (last_move, True)\n",
    "    elif(board_list[7] == board_list[4] == board_list[1] == last_move):\n",
    "        return (last_move, True)\n",
    "    elif(board_list[8] == board_list[5] == board_list[2] == last_move):\n",
    "        return (last_move, True)\n",
    "    elif(board_list[9] == board_list[6] == board_list[3] == last_move):\n",
    "        return (last_move, True)\n",
    "    elif(board_list[7] == board_list[5] == board_list[3] == last_move):\n",
    "        return (last_move, True)\n",
    "    elif(board_list[9] == board_list[5] == board_list[1] == last_move):\n",
    "        return (last_move, True)\n",
    "    elif ' ' not in board_list:\n",
    "        return ('Draw', True)\n",
    "    return (None, False)"
   ]
  },
  {
   "cell_type": "code",
   "execution_count": 20,
   "metadata": {},
   "outputs": [],
   "source": [
    "def print_result(result, player1, player2):\n",
    "    winner = None\n",
    "    if result == player1:\n",
    "        winner = 'Player 1'\n",
    "    elif result == player2:\n",
    "        winner = 'Player 2'\n",
    "    if result == 'Draw':\n",
    "        print('It ends in a draw!')\n",
    "    else:\n",
    "        print(f'Congratulations, {winner}')"
   ]
  },
  {
   "cell_type": "code",
   "execution_count": 21,
   "metadata": {},
   "outputs": [],
   "source": [
    "from IPython.display import clear_output\n",
    "\n",
    "def start_game():\n",
    "    board_list = ['#', ' ', ' ', ' ', ' ', ' ', ' ', ' ', ' ', ' ']\n",
    "    player1, player2 = determine_players()\n",
    "    is_over = False\n",
    "    turn = determine_first_move()\n",
    "    while is_over == False:\n",
    "        print(' ')\n",
    "        print(f'Player {turn}\\'s turn')\n",
    "        board, current_turn, next_turn = player_turn(turn, board_list)\n",
    "        board_list = board\n",
    "        turn = next_turn\n",
    "        clear_output()\n",
    "        print_board(board_list)\n",
    "        result, has_winner = determine_winner(board_list, current_turn)\n",
    "        is_over = has_winner or False\n",
    "    print_result(result, player1, player2)\n",
    "    return True\n",
    "    "
   ]
  },
  {
   "cell_type": "code",
   "execution_count": 22,
   "metadata": {},
   "outputs": [],
   "source": [
    "def play_again():\n",
    "    choice_to_play_again = None\n",
    "    while choice_to_play_again != 'Y' or choice_to_play_again != 'N':\n",
    "        choice_to_play_again = input('Do you want to play again? (Y/N):').upper()\n",
    "        if choice_to_play_again == 'Y':\n",
    "            return True\n",
    "        elif choice_to_play_again == 'N':\n",
    "            return False\n",
    "        else:\n",
    "            print('Please enter either \"Y\" or \"N\"')\n",
    "    return False"
   ]
  },
  {
   "cell_type": "code",
   "execution_count": 23,
   "metadata": {},
   "outputs": [],
   "source": [
    "def tic_tac_toe():\n",
    "    should_play = True\n",
    "    while should_play:\n",
    "        has_result = start_game()\n",
    "        if has_result:\n",
    "            should_play = play_again()"
   ]
  },
  {
   "cell_type": "code",
   "execution_count": 24,
   "metadata": {},
   "outputs": [
    {
     "name": "stdout",
     "output_type": "stream",
     "text": [
      "Y | X | Y\n",
      "Y | X | X\n",
      "X | Y | X\n",
      "It ends in a draw!\n"
     ]
    }
   ],
   "source": [
    "tic_tac_toe()"
   ]
  }
 ],
 "metadata": {
  "kernelspec": {
   "display_name": "Python 3.11.0 64-bit",
   "language": "python",
   "name": "python3"
  },
  "language_info": {
   "codemirror_mode": {
    "name": "ipython",
    "version": 3
   },
   "file_extension": ".py",
   "mimetype": "text/x-python",
   "name": "python",
   "nbconvert_exporter": "python",
   "pygments_lexer": "ipython3",
   "version": "3.11.0"
  },
  "orig_nbformat": 4,
  "vscode": {
   "interpreter": {
    "hash": "e165a88452cfbfdb3c14004368119bdf10c64e870b40dbb2fb8f4c58d59e6df4"
   }
  }
 },
 "nbformat": 4,
 "nbformat_minor": 2
}
