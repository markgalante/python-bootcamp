{
 "cells": [
  {
   "cell_type": "markdown",
   "metadata": {},
   "source": [
    "# Map\n",
    "```python\n",
    "def square(num):\n",
    "  return num**2\n",
    "\n",
    "list_of_nums = [1,2,3,4,5]\n",
    "\n",
    "map(square, list_of_nums) # Returns something like \"<map at 0x2a72...>\"\n",
    "\n",
    "for item in map(square, list_of_nums):\n",
    "  print(item) # iteratively prints 1,4,9,26,25\n",
    "\n",
    "list(map(square, list_of_nums)) # Returns the list [1, 4..., 25]\n",
    "```\n",
    "\n",
    "### Another example:\n",
    "```python\n",
    "def splicer(str):\n",
    "  if len(str) % 2 == 0:\n",
    "    return 'even'\n",
    "  else:\n",
    "    return str[0]\n",
    "\n",
    "list_of_names = ['John','Cindy','Sarah','Kelly','Mike']\n",
    "list(map(splicer, list_of_names)) # Returns ['even', C, S, K, 'even']\n",
    "```"
   ]
  },
  {
   "cell_type": "markdown",
   "metadata": {},
   "source": [
    "# Filter\n",
    "Returns iterator return items that returns `True` in the boolean. \n",
    "\n",
    "```python\n",
    "def check_even(num):\n",
    "  return num % 2 == 0\n",
    "\n",
    "my_nums = [1,2,3,4,5,6]\n",
    "\n",
    "filter(check_even, my_nums) # Returns \"<filter at 0x2a...da0>\"\n",
    "\n",
    "list(filter(check_even, my_nums)) # Returns [2,4,6]\n",
    "```"
   ]
  },
  {
   "cell_type": "markdown",
   "metadata": {},
   "source": [
    "# Lambda expressions (or anonymous functions)\n",
    "We only intend on using them one time.\n",
    "\n",
    "```python\n",
    "lambda num: num**2 # Note, no `return` call.\n",
    "# Returns <function __main__.<lambda>(num)>\n",
    "\n",
    "square = lambda num: num **2\n",
    "square(3) # 9 \n",
    "\n",
    "#BEST USE CASE:\n",
    "my_nums = [1,2,3,4,5] \n",
    "list(map(lambda num: num**2, my_nums)) # [1, 4, 9, 16, 25]\n",
    "\n",
    "is_even = lambda num: num%2==0\n",
    "list(filter(is_even, my_nums)) # [2,4]\n",
    "```\n",
    "\n",
    "### Why use Lambda: \n",
    "if it makes your code more readable in the future"
   ]
  },
  {
   "cell_type": "code",
   "execution_count": 1,
   "metadata": {},
   "outputs": [
    {
     "data": {
      "text/plain": [
       "<function __main__.<lambda>(num)>"
      ]
     },
     "execution_count": 1,
     "metadata": {},
     "output_type": "execute_result"
    }
   ],
   "source": [
    "lambda num: num**2 "
   ]
  },
  {
   "cell_type": "code",
   "execution_count": 2,
   "metadata": {},
   "outputs": [
    {
     "data": {
      "text/plain": [
       "9"
      ]
     },
     "execution_count": 2,
     "metadata": {},
     "output_type": "execute_result"
    }
   ],
   "source": [
    "square = lambda num: num **2\n",
    "square(3)"
   ]
  },
  {
   "cell_type": "code",
   "execution_count": 2,
   "metadata": {},
   "outputs": [
    {
     "data": {
      "text/plain": [
       "[1, 4, 9, 16, 25]"
      ]
     },
     "execution_count": 2,
     "metadata": {},
     "output_type": "execute_result"
    }
   ],
   "source": [
    "square = lambda num: num**2\n",
    "my_nums = [1,2,3,4,5]\n",
    "\n",
    "list(map(square, my_nums))"
   ]
  },
  {
   "cell_type": "code",
   "execution_count": 3,
   "metadata": {},
   "outputs": [
    {
     "data": {
      "text/plain": [
       "[2, 4]"
      ]
     },
     "execution_count": 3,
     "metadata": {},
     "output_type": "execute_result"
    }
   ],
   "source": [
    "list(filter(lambda num: num % 2 == 0, my_nums))"
   ]
  },
  {
   "cell_type": "code",
   "execution_count": null,
   "metadata": {},
   "outputs": [],
   "source": []
  }
 ],
 "metadata": {
  "kernelspec": {
   "display_name": "Python 3.11.0 64-bit",
   "language": "python",
   "name": "python3"
  },
  "language_info": {
   "codemirror_mode": {
    "name": "ipython",
    "version": 3
   },
   "file_extension": ".py",
   "mimetype": "text/x-python",
   "name": "python",
   "nbconvert_exporter": "python",
   "pygments_lexer": "ipython3",
   "version": "3.11.0"
  },
  "orig_nbformat": 4,
  "vscode": {
   "interpreter": {
    "hash": "e165a88452cfbfdb3c14004368119bdf10c64e870b40dbb2fb8f4c58d59e6df4"
   }
  }
 },
 "nbformat": 4,
 "nbformat_minor": 2
}
