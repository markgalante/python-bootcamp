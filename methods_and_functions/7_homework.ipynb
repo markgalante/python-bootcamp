{
 "cells": [
  {
   "cell_type": "markdown",
   "metadata": {},
   "source": [
    "# Functions and Methods Homework\n",
    "\n",
    "### Write a function that computes the volume of a sphere given its radius."
   ]
  },
  {
   "cell_type": "code",
   "execution_count": 4,
   "metadata": {},
   "outputs": [
    {
     "data": {
      "text/plain": [
       "33.510321638291124"
      ]
     },
     "execution_count": 4,
     "metadata": {},
     "output_type": "execute_result"
    }
   ],
   "source": [
    "import math\n",
    "def vol(rad):\n",
    "    return (4/3) * math.pi * (rad**3)"
   ]
  },
  {
   "cell_type": "markdown",
   "metadata": {},
   "source": [
    "## Write a function that checks whether a number is in a given range (inclusive of high and low)"
   ]
  },
  {
   "cell_type": "code",
   "execution_count": 11,
   "metadata": {},
   "outputs": [
    {
     "data": {
      "text/plain": [
       "'3 is not in the range between 4 and 7'"
      ]
     },
     "execution_count": 11,
     "metadata": {},
     "output_type": "execute_result"
    }
   ],
   "source": [
    "#MY SOLUTION\n",
    "def ran_check(num,low,high):\n",
    "    if low <= num <= high:\n",
    "        return f'{num} is in the range between {low} and {high}'\n",
    "    return f'{num} is not in the range between {low} and {high}'\n",
    "\n",
    "#HIS SOLUTION:\n",
    "def ran_check_2(num,low,high):\n",
    "    if num in range(low, high+1):\n",
    "        return f'{num} is in the range between {low} and {high}'\n",
    "    return f'{num} is not in the range between {low} and {high}'\n",
    "\n",
    "ran_check_2(3,4,7)"
   ]
  },
  {
   "cell_type": "code",
   "execution_count": 13,
   "metadata": {},
   "outputs": [
    {
     "data": {
      "text/plain": [
       "True"
      ]
     },
     "execution_count": 13,
     "metadata": {},
     "output_type": "execute_result"
    }
   ],
   "source": [
    "# MY SOLUTION\n",
    "def ran_bool(num,low,high):\n",
    "    return low <= num <= high\n",
    "\n",
    "# HIS SOLUTION\n",
    "def ran_bool_2(num, low, high):\n",
    "    return num in range(low, high + 1)\n",
    "\n",
    "ran_bool_2(5,4,6)"
   ]
  },
  {
   "cell_type": "markdown",
   "metadata": {},
   "source": [
    "## Write a Python function that accepts a string and calculates the number of upper case letters and lower case letters."
   ]
  },
  {
   "cell_type": "code",
   "execution_count": 15,
   "metadata": {},
   "outputs": [
    {
     "data": {
      "text/plain": [
       "{'upper': 4, 'lower': 33}"
      ]
     },
     "execution_count": 15,
     "metadata": {},
     "output_type": "execute_result"
    }
   ],
   "source": [
    "# TWO SEPARATE VARIABLES:\n",
    "def up_low(s):\n",
    "    upper = 0\n",
    "    lower = 0\n",
    "    for char in s:\n",
    "        if char.isupper():\n",
    "            upper += 1\n",
    "        if char.islower():\n",
    "            lower += 1\n",
    "    return f'Uppercase letters: {upper}, lowercase letters: {lower}'\n",
    "\n",
    "# TWO SEPARATE VARIABLES:\n",
    "def up_low_dictionary(s):\n",
    "    d = {'upper': 0, 'lower': 0}\n",
    "    for char in s:\n",
    "        if char.isupper():\n",
    "            d['upper'] += 1\n",
    "        if char.islower():\n",
    "            d['lower'] += 1\n",
    "    return d\n",
    "\n",
    "up_low_dictionary('Hello Mr. Rogers, how are you this fine Tuesday?')"
   ]
  },
  {
   "cell_type": "markdown",
   "metadata": {},
   "source": [
    "## Write a Python function that takes a list and returns a new list with unique elements of the first list."
   ]
  },
  {
   "cell_type": "code",
   "execution_count": 17,
   "metadata": {},
   "outputs": [
    {
     "data": {
      "text/plain": [
       "[1, 2, 3, 4, 5]"
      ]
     },
     "execution_count": 17,
     "metadata": {},
     "output_type": "execute_result"
    }
   ],
   "source": [
    "#SIMPLEST\n",
    "def unique_list(lst):\n",
    "    return list(set(lst))\n",
    "# unique_list([1,1,1,1,2,2,3,3,3,3,4,5])\n",
    "\n",
    "#MORE COMPLEX\n",
    "def unique_list2(lst):\n",
    "    seen_numbers = []\n",
    "    for number in lst:\n",
    "        if number not in seen_numbers:\n",
    "            seen_numbers.append(number)\n",
    "    return seen_numbers\n",
    "\n",
    "unique_list2([1,1,1,1,2,2,1,3,3,3,3,4,5])"
   ]
  },
  {
   "cell_type": "markdown",
   "metadata": {},
   "source": [
    "## Write a Python function to multiply all the numbers in a list."
   ]
  },
  {
   "cell_type": "code",
   "execution_count": 20,
   "metadata": {},
   "outputs": [
    {
     "data": {
      "text/plain": [
       "0"
      ]
     },
     "execution_count": 20,
     "metadata": {},
     "output_type": "execute_result"
    }
   ],
   "source": [
    "def multiply(numbers):  \n",
    "    result = numbers[0]\n",
    "    for i in range(1,len(numbers)):\n",
    "        result = result * numbers[i]\n",
    "    return result\n",
    "\n",
    "multiply([1,2,3,-4,-2, 10, 0])"
   ]
  },
  {
   "cell_type": "markdown",
   "metadata": {},
   "source": [
    "## Write a Python function that checks whether a word or phrase is palindrome or not."
   ]
  },
  {
   "cell_type": "code",
   "execution_count": 24,
   "metadata": {},
   "outputs": [
    {
     "data": {
      "text/plain": [
       "False"
      ]
     },
     "execution_count": 24,
     "metadata": {},
     "output_type": "execute_result"
    }
   ],
   "source": [
    "# MY SOLUTION\n",
    "def palindrome(s):\n",
    "    removed_spaces = s.replace(' ', '')\n",
    "    reversed = removed_spaces[::-1]\n",
    "    return removed_spaces == reversed\n",
    "\n",
    "\n",
    "# HIS SOLUTION:\n",
    "def palindrome2(s):\n",
    "    # Remove spaces\n",
    "    s = s.replace(' ', '')\n",
    "    return s == s[::-1]\n",
    "\n",
    "palindrome2('hellehh')"
   ]
  },
  {
   "cell_type": "markdown",
   "metadata": {},
   "source": [
    "## Write a Python function to check whether a string is pangram or not. (Assume the string passed in does not have any punctuation)"
   ]
  },
  {
   "cell_type": "code",
   "execution_count": 22,
   "metadata": {},
   "outputs": [
    {
     "data": {
      "text/plain": [
       "True"
      ]
     },
     "execution_count": 22,
     "metadata": {},
     "output_type": "execute_result"
    }
   ],
   "source": [
    "import string\n",
    "\n",
    "def is_pangram(str1, alphabet=string.ascii_lowercase):\n",
    "    lower_case_string = str1.replace(' ', '').lower()\n",
    "    string_set = set(lower_case_string) == set(alphabet)\n",
    "    return string_set\n",
    "\n",
    "is_pangram(\"The quick brown fox jumps over the lazy dog\")"
   ]
  },
  {
   "cell_type": "code",
   "execution_count": null,
   "metadata": {},
   "outputs": [],
   "source": []
  },
  {
   "cell_type": "code",
   "execution_count": 71,
   "metadata": {},
   "outputs": [
    {
     "data": {
      "text/plain": [
       "True"
      ]
     },
     "execution_count": 71,
     "metadata": {},
     "output_type": "execute_result"
    }
   ],
   "source": [
    "set1 = {1,2,3}\n",
    "set2 = {1,2,3}\n",
    "set1 == set2"
   ]
  },
  {
   "cell_type": "code",
   "execution_count": null,
   "metadata": {},
   "outputs": [],
   "source": []
  }
 ],
 "metadata": {
  "kernelspec": {
   "display_name": "Python 3.11.0 64-bit",
   "language": "python",
   "name": "python3"
  },
  "language_info": {
   "codemirror_mode": {
    "name": "ipython",
    "version": 3
   },
   "file_extension": ".py",
   "mimetype": "text/x-python",
   "name": "python",
   "nbconvert_exporter": "python",
   "pygments_lexer": "ipython3",
   "version": "3.11.0"
  },
  "orig_nbformat": 4,
  "vscode": {
   "interpreter": {
    "hash": "e165a88452cfbfdb3c14004368119bdf10c64e870b40dbb2fb8f4c58d59e6df4"
   }
  }
 },
 "nbformat": 4,
 "nbformat_minor": 2
}
