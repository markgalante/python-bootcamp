{
 "cells": [
  {
   "cell_type": "markdown",
   "metadata": {},
   "source": [
    "# Comparison Operators\n",
    "[Notebook](https://github.com/Pierian-Data/Complete-Python-3-Bootcamp/tree/master/01-Python%20Comparison%20Operators)\n",
    "\n",
    "\n",
    "### Equality\n",
    "- `==` tests for equality (strict)\n",
    "- `=` assigns to variables\n",
    "```python\n",
    "4 == 4 # True\n",
    "4 == 5 # false\n",
    "\"foo\" == \"foo\" # True\n",
    "\"bar\" == \"Bar\" # False\n",
    "\"3\" == 3 # False\n",
    "```\n",
    "\n",
    "### Inequality \n",
    "`!=`\n",
    "```python\n",
    "4 != 4 # False\n",
    "4 != 5 # True\n",
    "```\n",
    "\n"
   ]
  },
  {
   "cell_type": "markdown",
   "metadata": {},
   "source": []
  }
 ],
 "metadata": {
  "kernelspec": {
   "display_name": "Python 3.10.0 64-bit ('3.10.0')",
   "language": "python",
   "name": "python3"
  },
  "language_info": {
   "name": "python",
   "version": "3.10.0"
  },
  "orig_nbformat": 4,
  "vscode": {
   "interpreter": {
    "hash": "31f06c7659a94ccc17dc41d02973ee9ccff40e08f7add52156763fb2843538fe"
   }
  }
 },
 "nbformat": 4,
 "nbformat_minor": 2
}
