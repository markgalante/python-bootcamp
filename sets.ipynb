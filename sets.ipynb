{
 "cells": [
  {
   "cell_type": "markdown",
   "metadata": {},
   "source": [
    "# Sets\n",
    "- **Unordered** collections\n",
    "- *unique* elements.\n",
    "- Useful for seeing which elements exist in a list (array for JS)\n",
    "\n",
    "### Create a set\n",
    "```python\n",
    "my_first_set = set()\n",
    "my_first_set # set()\n",
    "```\n",
    "\n",
    "### Adding to set:\n",
    "```python\n",
    "my_first_set = set()\n",
    "my_first_set.add(1) # {1}\n",
    "my_first_set.add(2) # {1, 2}\n",
    "my_first_set.add(2) # {1, 2} - only UNIQUE values\n",
    "```\n",
    "\n",
    "### Casting a list to a set for *unique* values\n",
    "```python\n",
    "my_list = [1,1,1,1,2,2,2,2,3,3,3,3,3]\n",
    "set(my_first_set) # {1,2,3}\n",
    "```\n",
    "\n",
    "### Viewing the length of a set\n",
    "```python\n",
    "my_first_set = set()\n",
    "my_first_set.add(1)\n",
    "my_first_set.add(2) \n",
    "my_first_set.add(3)\n",
    "len(my_first_set) # 3\n",
    "```\n",
    "\n",
    "### `.pop()` method: \n",
    "Removes the ***first*** element added - FIFO\n",
    "```python\n",
    "my_first_set = set()\n",
    "my_first_set.add(1)\n",
    "my_first_set.add(2)\n",
    "my_first_set.add(3)\n",
    "\n",
    "my_first.set.pop() # 1 - removes the FIRST item added.\n",
    "my_first.set.pop(1) # TypeError - sets are UNORDERED \n",
    "```\n",
    "\n",
    "### `.clear()` method: \n",
    "Clears the entire set.\n",
    "```python\n",
    "my_first_set = set()\n",
    "my_first_set.add(1)\n",
    "my_first_set.add(2)\n",
    "my_first_set.add(3)\n",
    "\n",
    "my_first.set.clear()\n",
    "print(my_first_set) # set()\n",
    "```"
   ]
  },
  {
   "cell_type": "code",
   "execution_count": 3,
   "metadata": {},
   "outputs": [
    {
     "data": {
      "text/plain": [
       "{1, 2, 3}"
      ]
     },
     "execution_count": 3,
     "metadata": {},
     "output_type": "execute_result"
    }
   ],
   "source": [
    "my_list = [1,1,1,1,2,2,2,2,3,3,3]\n",
    "set(my_list)"
   ]
  },
  {
   "cell_type": "code",
   "execution_count": 4,
   "metadata": {},
   "outputs": [
    {
     "data": {
      "text/plain": [
       "set()"
      ]
     },
     "execution_count": 4,
     "metadata": {},
     "output_type": "execute_result"
    }
   ],
   "source": [
    "my_first_set = set()\n",
    "my_first_set"
   ]
  },
  {
   "cell_type": "code",
   "execution_count": 22,
   "metadata": {},
   "outputs": [
    {
     "data": {
      "text/plain": [
       "3"
      ]
     },
     "execution_count": 22,
     "metadata": {},
     "output_type": "execute_result"
    }
   ],
   "source": [
    "my_first_set.add(1)\n",
    "my_first_set.add(2)\n",
    "my_first_set.add(3)\n",
    "len(my_first_set)"
   ]
  },
  {
   "cell_type": "code",
   "execution_count": 20,
   "metadata": {},
   "outputs": [
    {
     "data": {
      "text/plain": [
       "set()"
      ]
     },
     "execution_count": 20,
     "metadata": {},
     "output_type": "execute_result"
    }
   ],
   "source": [
    "my_first_set.clear()\n",
    "my_first_set"
   ]
  },
  {
   "cell_type": "code",
   "execution_count": 19,
   "metadata": {},
   "outputs": [
    {
     "data": {
      "text/plain": [
       "{'M', 'i', 'p', 's'}"
      ]
     },
     "execution_count": 19,
     "metadata": {},
     "output_type": "execute_result"
    }
   ],
   "source": [
    "set('Mississippi')"
   ]
  },
  {
   "cell_type": "markdown",
   "metadata": {},
   "source": []
  },
  {
   "cell_type": "markdown",
   "metadata": {},
   "source": []
  }
 ],
 "metadata": {
  "kernelspec": {
   "display_name": "Python 3.10.0 64-bit ('3.10.0')",
   "language": "python",
   "name": "python3"
  },
  "language_info": {
   "codemirror_mode": {
    "name": "ipython",
    "version": 3
   },
   "file_extension": ".py",
   "mimetype": "text/x-python",
   "name": "python",
   "nbconvert_exporter": "python",
   "pygments_lexer": "ipython3",
   "version": "3.10.0"
  },
  "orig_nbformat": 4,
  "vscode": {
   "interpreter": {
    "hash": "31f06c7659a94ccc17dc41d02973ee9ccff40e08f7add52156763fb2843538fe"
   }
  }
 },
 "nbformat": 4,
 "nbformat_minor": 2
}
