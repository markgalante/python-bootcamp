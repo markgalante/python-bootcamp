{
 "cells": [
  {
   "cell_type": "markdown",
   "metadata": {},
   "source": [
    "# WARM UP"
   ]
  },
  {
   "cell_type": "markdown",
   "metadata": {},
   "source": [
    "**LESSER OF TWO EVENS: Write a function that returns the lesser of two given numbers if both numbers are even, but returns the greater if one or both numbers are odd** <br>\n",
    "lesser_of_two_evens(2,4) --> 2 <br>\n",
    "lesser_of_two_evens(2,5) --> 5"
   ]
  },
  {
   "cell_type": "code",
   "execution_count": 128,
   "metadata": {},
   "outputs": [
    {
     "data": {
      "text/plain": [
       "7"
      ]
     },
     "execution_count": 128,
     "metadata": {},
     "output_type": "execute_result"
    }
   ],
   "source": [
    "def lesser_of_two_evens(a,b):\n",
    "    if a % 2 == 1 or b % 2 == 1:\n",
    "        return max(a,b)\n",
    "    return min(a,b)\n",
    "\n",
    "lesser_of_two_evens(7,5)"
   ]
  },
  {
   "cell_type": "markdown",
   "metadata": {},
   "source": [
    "**ANIMAL CRACKERS: Write a function takes a two-word string and returns True if both words begin with same letter**\n",
    "```\n",
    "animal_crackers('Levelheaded Llama') --> True\n",
    "animal_crackers('Crazy Kangaroo') --> False\n",
    "```"
   ]
  },
  {
   "cell_type": "code",
   "execution_count": 140,
   "metadata": {},
   "outputs": [
    {
     "data": {
      "text/plain": [
       "True"
      ]
     },
     "execution_count": 140,
     "metadata": {},
     "output_type": "execute_result"
    }
   ],
   "source": [
    "def animal_crackers(text):\n",
    "  string_list = text.lower().split()\n",
    "  return string_list[0][0] == string_list[1][0]\n",
    "\n",
    "animal_crackers('Levelheaded llama')"
   ]
  },
  {
   "cell_type": "markdown",
   "metadata": {},
   "source": [
    "**MAKES TWENTY: Given two integers, return `True` if the sum of the integers is 20 or if one of the integers is 20. If not, return `False`**<br>\n",
    "makes_twenty(20,10) --> True<br>\n",
    "makes_twenty(12,8) --> True<br>\n",
    "makes_twenty(2,3) --> False"
   ]
  },
  {
   "cell_type": "code",
   "execution_count": 145,
   "metadata": {},
   "outputs": [
    {
     "data": {
      "text/plain": [
       "False"
      ]
     },
     "execution_count": 145,
     "metadata": {},
     "output_type": "execute_result"
    }
   ],
   "source": [
    "def makes_twenty(n1,n2):\n",
    "  return n1 == 20 or n2 == 20 or sum((n1,n2)) == 20\n",
    "\n",
    "makes_twenty(20,10)\n",
    "makes_twenty(12,8)\n",
    "makes_twenty(2,10)"
   ]
  },
  {
   "cell_type": "markdown",
   "metadata": {},
   "source": [
    "# LEVEL 1 PROBLEMS\n",
    "**OLD MACDONALD: Write a function that capitalizes the first and fourth letters of a name**\n",
    "> `old_macdonald('macdonald') --> MacDonald`\n",
    "\n",
    "Note: 'macdonald'.capitalize() returns 'Macdonald'"
   ]
  },
  {
   "cell_type": "code",
   "execution_count": 152,
   "metadata": {},
   "outputs": [
    {
     "data": {
      "text/plain": [
       "'MacDonald'"
      ]
     },
     "execution_count": 152,
     "metadata": {},
     "output_type": "execute_result"
    }
   ],
   "source": [
    "def old_macdonald(name):\n",
    "    result = []\n",
    "    for i in range(len(name)):\n",
    "        if i == 0 or i == 3:\n",
    "            result.append(name[i].upper())\n",
    "        else:\n",
    "            result.append(name[i])\n",
    "    return ''.join(result)\n",
    "\n",
    "def old_macdonald1(name):\n",
    "    string_list = list(name)\n",
    "    string_list[3] = string_list[3].upper()\n",
    "    string_list[0] = string_list[0].upper()\n",
    "    return ''.join(string_list)\n",
    "\n",
    "def old_macdonald2(name):\n",
    "    first_word = name[:3]\n",
    "    last_word = name[3:]\n",
    "    return first_word.capitalize() + last_word.capitalize()\n",
    "\n",
    "old_macdonald2('macdonald')"
   ]
  },
  {
   "cell_type": "markdown",
   "metadata": {},
   "source": [
    "**MASTER YODA: Given a sentence, return a sentence with the words reversed**\n",
    "> `master_yoda('I am home') --> 'home am I'`\n",
    "> `master_yoda('We are ready') --> 'ready are We'`\n",
    "\n",
    "Note: The .join() method may be useful here. The .join() method allows you to join together strings in a list with some connector string. For example, some uses of the .join() method:\n",
    "\n",
    "> `\"--\".join(['a','b','c'])`<br>\n",
    "> 'a--b--c'\n",
    "\n",
    "This means if you had a list of words you wanted to turn back into a sentence, you could just join them with a single space string:\n",
    "\n",
    "> `\" \".join(['Hello','world'])`<br>\n",
    "> \"Hello world\""
   ]
  },
  {
   "cell_type": "code",
   "execution_count": 171,
   "metadata": {},
   "outputs": [
    {
     "data": {
      "text/plain": [
       "'ready are We'"
      ]
     },
     "execution_count": 171,
     "metadata": {},
     "output_type": "execute_result"
    }
   ],
   "source": [
    "def master_yoda(text):\n",
    "  my_list = text.split()\n",
    "  my_list.reverse()\n",
    "  return ' '.join(my_list)\n",
    "  \n",
    "master_yoda('We are ready')"
   ]
  },
  {
   "cell_type": "markdown",
   "metadata": {},
   "source": [
    "**ALMOST THERE: Given an integer n, return `True` if n is within 10 of either 100 or 200**\n",
    "```\n",
    "almost_there(90) --> True\n",
    "almost_there(104) --> True\n",
    "almost_there(150) --> False\n",
    "almost_there(209) --> True\n",
    "```\n",
    "\n",
    "**NOTE:** `abs(num)` returns the absolute value of a number"
   ]
  },
  {
   "cell_type": "code",
   "execution_count": 178,
   "metadata": {},
   "outputs": [
    {
     "data": {
      "text/plain": [
       "True"
      ]
     },
     "execution_count": 178,
     "metadata": {},
     "output_type": "execute_result"
    }
   ],
   "source": [
    "def almost_there(n):\n",
    "  if (100 - 10) <= n <= (100+10):\n",
    "    return True\n",
    "  if (200 - 10) <= n <= (200+10):\n",
    "    return True\n",
    "  return False\n",
    "almost_there(209)\n",
    "\n",
    "def almost_there2(n):\n",
    "  return (abs(100-n) <= 10) or (abs(200-n) <= 10)\n"
   ]
  },
  {
   "cell_type": "markdown",
   "metadata": {},
   "source": [
    "# LEVEL 2 PROBLEMS\n",
    "\n",
    "**FIND 33: Given a list of ints, return True if the array contains a 3 next to a 3 somewhere.**\n",
    "```\n",
    "has_33([1, 3, 3]) → True\n",
    "has_33([1, 3, 1, 3]) → False\n",
    "has_33([3, 1, 3]) → False\n",
    "```"
   ]
  },
  {
   "cell_type": "code",
   "execution_count": 64,
   "metadata": {},
   "outputs": [
    {
     "data": {
      "text/plain": [
       "True"
      ]
     },
     "execution_count": 64,
     "metadata": {},
     "output_type": "execute_result"
    }
   ],
   "source": [
    "def has_33(nums):\n",
    "  for i in range(len(nums) - 1):\n",
    "    if nums[i] == 3 and nums[i+1] == 3:\n",
    "      return True\n",
    "  return False\n",
    "\n",
    "has_33([3,3])"
   ]
  },
  {
   "cell_type": "markdown",
   "metadata": {},
   "source": [
    "**PAPER DOLL: Given a string, return a string where for every character in the original there are three characters**\n",
    "```\n",
    "paper_doll('Hello') --> 'HHHeeellllllooo'\n",
    "paper_doll('Mississippi') --> 'MMMiiissssssiiippppppiii'\n",
    "```"
   ]
  },
  {
   "cell_type": "code",
   "execution_count": 179,
   "metadata": {},
   "outputs": [
    {
     "data": {
      "text/plain": [
       "'MMMiiissssssiiissssssiiippppppiii'"
      ]
     },
     "execution_count": 179,
     "metadata": {},
     "output_type": "execute_result"
    }
   ],
   "source": [
    "def paper_doll(text):\n",
    "  str_list = []\n",
    "  for i in range(len(text)):\n",
    "    for _ in range(3):\n",
    "      str_list.append(text[i])\n",
    "  return ''.join(str_list)\n",
    "\n",
    "def paper_doll2(text):\n",
    "  result = ''\n",
    "  for char in text:\n",
    "    result += char*3\n",
    "  return result\n",
    "\n",
    "paper_doll2('Mississippi')"
   ]
  },
  {
   "cell_type": "markdown",
   "metadata": {},
   "source": [
    "**BLACKJACK: Given three integers between 1 and 11, if their sum is less than or equal to 21, return their sum. If their sum exceeds 21 and there's an eleven, reduce the total sum by 10. Finally, if the sum (even after adjustment) exceeds 21, return 'BUST'**\n",
    "```\n",
    "blackjack(5,6,7) --> 18\n",
    "blackjack(9,9,9) --> 'BUST'\n",
    "blackjack(9,9,11) --> 19\n",
    "```"
   ]
  },
  {
   "cell_type": "code",
   "execution_count": 185,
   "metadata": {},
   "outputs": [
    {
     "data": {
      "text/plain": [
       "19"
      ]
     },
     "execution_count": 185,
     "metadata": {},
     "output_type": "execute_result"
    }
   ],
   "source": [
    "def blackjack(a,b,c):\n",
    "  number_sum = sum((a,b,c))\n",
    "  if 11 in [a,b,c]:\n",
    "    number_sum -= 10\n",
    "  if number_sum <= 21:\n",
    "    return number_sum\n",
    "  else:\n",
    "    return 'BUST'\n",
    "\n",
    "blackjack(9,9,11)"
   ]
  },
  {
   "cell_type": "markdown",
   "metadata": {},
   "source": [
    "**SUMMER OF '69: Return the sum of the numbers in the array, except ignore sections of numbers starting with a 6 and extending to the next 9 (every 6 will be followed by at least one 9). Return 0 for no numbers.**\n",
    "```\n",
    "summer_69([1, 3, 5]) --> 9\n",
    "summer_69([4, 5, 6, 7, 8, 9]) --> 9\n",
    "summer_69([2, 1, 6, 9, 11]) --> 14\n",
    "```"
   ]
  },
  {
   "cell_type": "code",
   "execution_count": 193,
   "metadata": {},
   "outputs": [
    {
     "data": {
      "text/plain": [
       "5"
      ]
     },
     "execution_count": 193,
     "metadata": {},
     "output_type": "execute_result"
    }
   ],
   "source": [
    "def summer_69(arr):\n",
    "  prelim_sum = sum(arr)\n",
    "  index_of_6 = None\n",
    "  index_of_9 = None\n",
    "  for i in range(len(arr)):\n",
    "    if arr[i] == 6: index_of_6 = i\n",
    "    if arr[i] == 9: index_of_9 = i + 1\n",
    "  subtraction_list = arr[index_of_6:index_of_9]\n",
    "  if None in [index_of_6, index_of_9]:\n",
    "    return prelim_sum\n",
    "  return prelim_sum - sum(subtraction_list)\n",
    "\n",
    "summer_69([2, 3, 6, 1,11, 9])"
   ]
  },
  {
   "cell_type": "markdown",
   "metadata": {},
   "source": [
    "# CHALLENGING PROBLEMS\n",
    "**SPY GAME: Write a function that takes in a list of integers and returns True if it contains 007 in order**\n",
    "```\n",
    " spy_game([1,2,4,0,0,7,5]) --> True\n",
    " spy_game([1,0,2,4,0,5,7]) --> True\n",
    " spy_game([1,7,2,0,4,5,0]) --> False\n",
    "```"
   ]
  },
  {
   "cell_type": "code",
   "execution_count": 11,
   "metadata": {},
   "outputs": [
    {
     "data": {
      "text/plain": [
       "True"
      ]
     },
     "execution_count": 11,
     "metadata": {},
     "output_type": "execute_result"
    }
   ],
   "source": [
    "def spy_game(nums):\n",
    "  spy_list = [None, None, None]\n",
    "  for i in range(len(nums)):\n",
    "    if nums[i] == 0:\n",
    "      if spy_list[0] == None:\n",
    "        spy_list[0] = 0\n",
    "      elif spy_list[1] == None:\n",
    "        spy_list[1] = 0\n",
    "    if nums[i] == 7:\n",
    "      if spy_list == [0,0, None]:\n",
    "        spy_list[2] = 7\n",
    "  if spy_list == [0,0,7]:\n",
    "    return True\n",
    "  return False\n",
    "\n",
    "def spy_game2(nums):\n",
    "  code_list = [0,0,7,'x']\n",
    "  for num in nums:\n",
    "    if num == code_list[0]:\n",
    "      code_list.pop(0)   # code_list.remove(num) also works\n",
    "  return len(code_list) == 1\n",
    "\n",
    "spy_game2([1,0,0,2,4,0,5,7])"
   ]
  },
  {
   "cell_type": "markdown",
   "metadata": {},
   "source": [
    "**COUNT PRIMES: Write a function that returns the number of prime numbers that exist up to and including a given number**\n",
    "```\n",
    "count_primes(100) --> 25\n",
    "```\n",
    "\n",
    "> By convention, 0 and 1 are not prime."
   ]
  },
  {
   "cell_type": "code",
   "execution_count": 28,
   "metadata": {},
   "outputs": [
    {
     "name": "stdout",
     "output_type": "stream",
     "text": [
      "3\n",
      "5\n",
      "7\n",
      "11\n",
      "13\n",
      "17\n",
      "19\n",
      "23\n",
      "29\n",
      "31\n",
      "37\n",
      "41\n",
      "43\n",
      "47\n",
      "53\n",
      "59\n",
      "61\n",
      "67\n",
      "71\n",
      "73\n",
      "79\n",
      "83\n",
      "89\n",
      "97\n"
     ]
    },
    {
     "data": {
      "text/plain": [
       "25"
      ]
     },
     "execution_count": 28,
     "metadata": {},
     "output_type": "execute_result"
    }
   ],
   "source": [
    "# MY SOLUTION: - not an ideal one.\n",
    "def count_primes(num):\n",
    "  if num < 2: return 0\n",
    "  prime_count = 1\n",
    "  for i in range(2, num+1):\n",
    "    for k in range(2, int(i/2) + 1):\n",
    "      if(i % k == 0):\n",
    "        prime_count += 1\n",
    "        break\n",
    "  return num - prime_count\n",
    "\n",
    "# CORRECT_SOLUTION:\n",
    "def count_primes2(num):\n",
    "  if num < 2: return 0\n",
    "  prime_list = [2]\n",
    "  count = 3\n",
    "  while count <= num:\n",
    "    for y in range(3,count,2):\n",
    "      if count % y == 0:\n",
    "        count += 2\n",
    "        break\n",
    "    else:\n",
    "      prime_list.append(count)\n",
    "      count += 2\n",
    "  return len(prime_list)\n",
    "\n",
    "count_primes2(100)\n"
   ]
  },
  {
   "cell_type": "markdown",
   "metadata": {},
   "source": []
  },
  {
   "cell_type": "code",
   "execution_count": 122,
   "metadata": {},
   "outputs": [
    {
     "name": "stdout",
     "output_type": "stream",
     "text": [
      "k >> 2\n",
      "Hi\n"
     ]
    }
   ],
   "source": [
    "for k in range(2, int(26/2) + 1):\n",
    "  print('k >>', k)\n",
    "  if(26 % k == 0):\n",
    "    print('Hi')\n",
    "    break\n"
   ]
  },
  {
   "cell_type": "markdown",
   "metadata": {},
   "source": [
    "# Just for fun:\n",
    "**PRINT BIG: Write a function that takes in a single letter, and returns a 5x5 representation of that letter**\n",
    "```\n",
    "print_big('a')\n",
    "\n",
    "out:   *  \n",
    "      * *\n",
    "     *****\n",
    "     *   *\n",
    "     *   *\n",
    "```\n",
    "> HINT: Consider making a dictionary of possible patterns, and mapping the alphabet to specific 5-line combinations of patterns.\n",
    "> For purposes of this exercise, it's ok if your dictionary stops at \"E\"."
   ]
  },
  {
   "cell_type": "code",
   "execution_count": 189,
   "metadata": {},
   "outputs": [
    {
     "data": {
      "text/plain": [
       "[1, 3, 4, 11]"
      ]
     },
     "execution_count": 189,
     "metadata": {},
     "output_type": "execute_result"
    }
   ],
   "source": [
    "[1,3,4,11][None:None]"
   ]
  },
  {
   "cell_type": "code",
   "execution_count": 125,
   "metadata": {},
   "outputs": [
    {
     "data": {
      "text/plain": [
       "2"
      ]
     },
     "execution_count": 125,
     "metadata": {},
     "output_type": "execute_result"
    }
   ],
   "source": []
  },
  {
   "cell_type": "code",
   "execution_count": null,
   "metadata": {},
   "outputs": [],
   "source": []
  }
 ],
 "metadata": {
  "kernelspec": {
   "display_name": "Python 3.10.0 64-bit ('3.10.0')",
   "language": "python",
   "name": "python3"
  },
  "language_info": {
   "codemirror_mode": {
    "name": "ipython",
    "version": 3
   },
   "file_extension": ".py",
   "mimetype": "text/x-python",
   "name": "python",
   "nbconvert_exporter": "python",
   "pygments_lexer": "ipython3",
   "version": "3.10.0"
  },
  "orig_nbformat": 4,
  "vscode": {
   "interpreter": {
    "hash": "31f06c7659a94ccc17dc41d02973ee9ccff40e08f7add52156763fb2843538fe"
   }
  }
 },
 "nbformat": 4,
 "nbformat_minor": 2
}
