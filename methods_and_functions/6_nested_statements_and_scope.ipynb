{
 "cells": [
  {
   "cell_type": "markdown",
   "metadata": {},
   "source": [
    "# SCOPE\n",
    "\n",
    "## Order of preference\n",
    "- **Local**: defined in any way in a function/lambda. Not declared `global` in function.\n",
    "- **Enclosing function locals**: named in local scope in any and all enclosing functions from inner -> outer\n",
    "- **Global**: top level of module file OR declared `global`. \n",
    "- **Built-in**: `open`, `range`, `SyntaxError`, etc. "
   ]
  },
  {
   "cell_type": "code",
   "execution_count": 20,
   "metadata": {},
   "outputs": [
    {
     "name": "stdout",
     "output_type": "stream",
     "text": [
      "Hello Local name\n"
     ]
    }
   ],
   "source": [
    "# GLOBAL\n",
    "name = 'Global name'\n",
    "\n",
    "def greet():\n",
    "    # ENCLOSING\n",
    "    name = 'Enclosing name'\n",
    "\n",
    "    def hello():\n",
    "        # LOCAL\n",
    "        name = 'Local name'\n",
    "        print(f'Hello {name}')\n",
    "\n",
    "    hello()\n",
    "\n",
    "greet()"
   ]
  },
  {
   "cell_type": "markdown",
   "metadata": {},
   "source": [
    "### WARNING:\n",
    "Re-assigning `global` values isn't recommended."
   ]
  },
  {
   "cell_type": "code",
   "execution_count": 25,
   "metadata": {},
   "outputs": [
    {
     "name": "stdout",
     "output_type": "stream",
     "text": [
      "value of x before running function is 50\n",
      "I just locally changed x to 200\n",
      "value of x after running function 200\n"
     ]
    }
   ],
   "source": [
    "x = 50\n",
    "\n",
    "def func():\n",
    "    # print(x) - can't be done! \n",
    "    global x\n",
    "    # LOCAL REASSIGNMENT OF GLOBAL VARIABLE\n",
    "    x = 200\n",
    "    print(f'I just locally changed x to {x}')\n",
    "\n",
    "print(f'value of x before running function is {x}')\n",
    "func()\n",
    "print(f'value of x after running function {x}')"
   ]
  },
  {
   "cell_type": "code",
   "execution_count": 32,
   "metadata": {},
   "outputs": [
    {
     "name": "stdout",
     "output_type": "stream",
     "text": [
      "value of x before running function is 50\n",
      "I just locally changed x to 200\n",
      "value of x after running function 200\n"
     ]
    }
   ],
   "source": [
    "# BETTER ROUTE:\n",
    "\n",
    "x = 50\n",
    "\n",
    "def func2(val):\n",
    "    # LOCAL REASSIGNMENT OF GLOBAL VARIABLE\n",
    "    val = 200\n",
    "    print(f'I just locally changed x to {val}')\n",
    "    return val\n",
    "\n",
    "print(f'value of x before running function is {x}')\n",
    "x = func2(x)\n",
    "print(f'value of x after running function {x}')"
   ]
  },
  {
   "cell_type": "code",
   "execution_count": null,
   "metadata": {},
   "outputs": [],
   "source": []
  },
  {
   "cell_type": "code",
   "execution_count": null,
   "metadata": {},
   "outputs": [],
   "source": []
  },
  {
   "cell_type": "code",
   "execution_count": null,
   "metadata": {},
   "outputs": [],
   "source": []
  },
  {
   "cell_type": "code",
   "execution_count": null,
   "metadata": {},
   "outputs": [],
   "source": []
  },
  {
   "cell_type": "code",
   "execution_count": null,
   "metadata": {},
   "outputs": [],
   "source": []
  },
  {
   "cell_type": "code",
   "execution_count": null,
   "metadata": {},
   "outputs": [],
   "source": []
  },
  {
   "cell_type": "code",
   "execution_count": null,
   "metadata": {},
   "outputs": [],
   "source": []
  }
 ],
 "metadata": {
  "kernelspec": {
   "display_name": "Python 3.11.0 64-bit",
   "language": "python",
   "name": "python3"
  },
  "language_info": {
   "codemirror_mode": {
    "name": "ipython",
    "version": 3
   },
   "file_extension": ".py",
   "mimetype": "text/x-python",
   "name": "python",
   "nbconvert_exporter": "python",
   "pygments_lexer": "ipython3",
   "version": "3.11.0"
  },
  "orig_nbformat": 4,
  "vscode": {
   "interpreter": {
    "hash": "e165a88452cfbfdb3c14004368119bdf10c64e870b40dbb2fb8f4c58d59e6df4"
   }
  }
 },
 "nbformat": 4,
 "nbformat_minor": 2
}
