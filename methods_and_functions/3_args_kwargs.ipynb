{
 "cells": [
  {
   "cell_type": "markdown",
   "metadata": {},
   "source": [
    "## `*args` (arguments) and `**kwargs` (keyword arguments)\n",
    "\n",
    "\n",
    "### `*args` \n",
    "Aggregates an arbitrary number of arguments in a tuple.\n",
    "```python\n",
    "def myfunc(a,b):\n",
    "  return sum((a,b))*0.05\n",
    "\n",
    "myfunc(60,40)\n",
    "```\n",
    "The above function only allows you to give a finite amount of arguments (2). If you add more or less, you get an error.\n",
    "`*args` allows you to take an arbitrary number of arguments.\n",
    "```python\n",
    "def myfunc(*nums):\n",
    "  print(nums)\n",
    "  return sum(nums)*0.05\n",
    "\n",
    "myfunc(60,40,60,50) # 10.5\n",
    "myfunc(20) # 1.0\n",
    "```\n",
    "In the above situation `nums` is a tuple, e.g.: `(60, 40, 60, 50)`. By convention, you should always use `*args` instead of something like `*nums`. "
   ]
  },
  {
   "cell_type": "code",
   "execution_count": 12,
   "metadata": {},
   "outputs": [
    {
     "name": "stdout",
     "output_type": "stream",
     "text": [
      "(60, 40, 60, 50)\n",
      "(20,)\n"
     ]
    },
    {
     "data": {
      "text/plain": [
       "1.0"
      ]
     },
     "execution_count": 12,
     "metadata": {},
     "output_type": "execute_result"
    }
   ],
   "source": [
    "def myfunc(*nums):\n",
    "  print(nums)\n",
    "  return sum(nums)*0.05\n",
    "\n",
    "myfunc(60,40,60,50) # 10.5\n",
    "myfunc(20) # 1.0"
   ]
  },
  {
   "cell_type": "markdown",
   "metadata": {},
   "source": [
    "## `**kwargs`\n",
    "Builds a dictionary of key-value arguments as opposed to a tuple of values (as is done with `*args`).\n",
    "\n",
    "**Example**\n",
    "```python\n",
    "def my_func(**kwargs):\n",
    "  print(kwargs)\n",
    "  if 'fruit' in kwargs:\n",
    "    print(f'My favourite fruit is {kwargs[\"fruit\"]}')\n",
    "  else:\n",
    "    print(\"I did not select a fruit\")\n",
    "```\n",
    "``` python\n",
    "my_func(veggie = \"Carrot\", fruit = \"Tomato\") # Returns \"My favourite fruit is Tomato\"\n",
    "# Logs: {'veggie': 'Carrot', 'fruit': 'Tomato'}\n",
    "```"
   ]
  },
  {
   "cell_type": "code",
   "execution_count": 23,
   "metadata": {},
   "outputs": [],
   "source": [
    "def my_func(**kwargs):\n",
    "  print(kwargs)\n",
    "  if 'fruit' in kwargs:\n",
    "    print(f'My favourite fruit is {kwargs[\"fruit\"]}')\n",
    "  else:\n",
    "    print(\"I did not select a fruit\")"
   ]
  },
  {
   "cell_type": "code",
   "execution_count": 24,
   "metadata": {},
   "outputs": [
    {
     "name": "stdout",
     "output_type": "stream",
     "text": [
      "{'veggie': 'Carrot', 'fruit': 'Tomato'}\n",
      "My favourite fruit is Tomato\n"
     ]
    }
   ],
   "source": [
    "my_func(veggie = \"Carrot\", fruit = \"Tomato\")"
   ]
  },
  {
   "cell_type": "code",
   "execution_count": 65,
   "metadata": {},
   "outputs": [
    {
     "name": "stdout",
     "output_type": "stream",
     "text": [
      "0 H\n",
      "1 e\n",
      "2 l\n",
      "3 l\n",
      "4 o\n"
     ]
    },
    {
     "data": {
      "text/plain": [
       "'hElLo'"
      ]
     },
     "execution_count": 65,
     "metadata": {},
     "output_type": "execute_result"
    }
   ],
   "source": [
    "name = \"mark\"\n",
    "name[1].capitalize()\n",
    "name.__add__(' ')\n",
    "\n",
    "def upper_case(string):\n",
    "  result = []\n",
    "  for i in range(len(string)):\n",
    "    print(i, string[i])\n",
    "    if i % 2 != 0:\n",
    "      result.append(string[i].upper())\n",
    "    else:\n",
    "      result.append(string[i].lower())\n",
    "  return \"\".join(result)\n",
    "\n",
    "upper_case('Hello')"
   ]
  },
  {
   "cell_type": "code",
   "execution_count": null,
   "metadata": {},
   "outputs": [],
   "source": []
  }
 ],
 "metadata": {
  "kernelspec": {
   "display_name": "Python 3.10.0 64-bit ('3.10.0')",
   "language": "python",
   "name": "python3"
  },
  "language_info": {
   "codemirror_mode": {
    "name": "ipython",
    "version": 3
   },
   "file_extension": ".py",
   "mimetype": "text/x-python",
   "name": "python",
   "nbconvert_exporter": "python",
   "pygments_lexer": "ipython3",
   "version": "3.10.0"
  },
  "orig_nbformat": 4,
  "vscode": {
   "interpreter": {
    "hash": "31f06c7659a94ccc17dc41d02973ee9ccff40e08f7add52156763fb2843538fe"
   }
  }
 },
 "nbformat": 4,
 "nbformat_minor": 2
}
