{
 "cells": [
  {
   "cell_type": "markdown",
   "metadata": {},
   "source": [
    "# While Loops\n",
    "\n",
    "### Syntax\n",
    "```python\n",
    "while some_condition:\n",
    "  doSomething()\n",
    "else:\n",
    "  doSomethingElse()\n",
    "```\n",
    "\n",
    "### Basic Example 1:\n",
    "```python\n",
    "x = 0\n",
    "x = 0\n",
    "while x < 5:\n",
    "  print(f'The value of x is {x}')\n",
    "  x += 1\n",
    "else: \n",
    "  print(f'x is not less than 5, it is {x}')\n",
    "```\n",
    "\n",
    "## Keywords:\n",
    "\n",
    "### `break`\n",
    "Break out of current enclosing loop.\n",
    "```python\n",
    "mystring = \"Sammy\"\n",
    "for letter in mystring:\n",
    "  if letter == \"m\":\n",
    "    break\n",
    "  print(letter)\n",
    "S\n",
    "a\n",
    "```\n",
    "\n",
    "### `continue`\n",
    "Go to top of closest enclosing.\n",
    "```python\n",
    "mystring = \"Sammy\"\n",
    "for letter in mystring:\n",
    "  if letter == \"a\":\n",
    "    continue\n",
    "  print(letter)\n",
    "S\n",
    "m\n",
    "m\n",
    "y\n",
    "```\n",
    "\n",
    "### `pass`\n",
    "Do nothing. Often used as a placeholder / \"filler\" to avoid syntax error.\n",
    "```python\n",
    "items = [1,2,3,4]\n",
    "for x in items:\n",
    "  pass\n",
    "\n",
    "print('Done iterating')\n",
    "```"
   ]
  },
  {
   "cell_type": "code",
   "execution_count": 2,
   "metadata": {},
   "outputs": [
    {
     "name": "stdout",
     "output_type": "stream",
     "text": [
      "The value of x is 0\n",
      "The value of x is 1\n",
      "The value of x is 2\n",
      "The value of x is 3\n",
      "The value of x is 4\n",
      "x is not less than 5, it is 5\n"
     ]
    }
   ],
   "source": [
    "x = 0\n",
    "while x < 5:\n",
    "  print(f'The value of x is {x}')\n",
    "  x += 1\n",
    "else: \n",
    "  print(f'x is not less than 5, it is {x}')"
   ]
  },
  {
   "cell_type": "code",
   "execution_count": 3,
   "metadata": {},
   "outputs": [
    {
     "name": "stdout",
     "output_type": "stream",
     "text": [
      "Done iterating\n"
     ]
    }
   ],
   "source": [
    "items = [1,2,3,4]\n",
    "\n",
    "for x in items:\n",
    "  pass\n",
    "\n",
    "print('Done iterating')"
   ]
  },
  {
   "cell_type": "code",
   "execution_count": 7,
   "metadata": {},
   "outputs": [
    {
     "name": "stdout",
     "output_type": "stream",
     "text": [
      "S\n",
      "a\n"
     ]
    }
   ],
   "source": [
    "mystring = \"Sammy\"\n",
    "\n",
    "for letter in mystring:\n",
    "  if letter == \"m\":\n",
    "    break\n",
    "  print(letter)"
   ]
  },
  {
   "cell_type": "code",
   "execution_count": null,
   "metadata": {},
   "outputs": [],
   "source": []
  }
 ],
 "metadata": {
  "kernelspec": {
   "display_name": "Python 3.10.0 64-bit ('3.10.0')",
   "language": "python",
   "name": "python3"
  },
  "language_info": {
   "codemirror_mode": {
    "name": "ipython",
    "version": 3
   },
   "file_extension": ".py",
   "mimetype": "text/x-python",
   "name": "python",
   "nbconvert_exporter": "python",
   "pygments_lexer": "ipython3",
   "version": "3.10.0"
  },
  "orig_nbformat": 4,
  "vscode": {
   "interpreter": {
    "hash": "31f06c7659a94ccc17dc41d02973ee9ccff40e08f7add52156763fb2843538fe"
   }
  }
 },
 "nbformat": 4,
 "nbformat_minor": 2
}
