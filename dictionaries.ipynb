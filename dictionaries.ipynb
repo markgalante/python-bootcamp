{
 "cells": [
  {
   "cell_type": "markdown",
   "metadata": {},
   "source": [
    "### Construct a dictionary\n",
    "```\n",
    "my_dict = {'key1':'value1', 'key2': 'value2'}\n",
    "my_dict['key1'] \n",
    "# prints 'value1'\n",
    "```"
   ]
  },
  {
   "cell_type": "code",
   "execution_count": 1,
   "metadata": {},
   "outputs": [],
   "source": [
    "prices_lookup = {'apple': 2.99, 'oranges': 1.99, 'milk': 5.80}"
   ]
  },
  {
   "cell_type": "code",
   "execution_count": 2,
   "metadata": {},
   "outputs": [
    {
     "data": {
      "text/plain": [
       "1.99"
      ]
     },
     "execution_count": 2,
     "metadata": {},
     "output_type": "execute_result"
    }
   ],
   "source": [
    "# find price of certain items\n",
    "prices_lookup['oranges']"
   ]
  },
  {
   "cell_type": "code",
   "execution_count": 14,
   "metadata": {},
   "outputs": [
    {
     "data": {
      "text/plain": [
       "['a', 'b', 'c']"
      ]
     },
     "execution_count": 14,
     "metadata": {},
     "output_type": "execute_result"
    }
   ],
   "source": [
    "# mutating items in a dictionary\n",
    "d = {'key1': ['a', 'b', 'c']}\n",
    "my_list = d['key1']\n",
    "my_list"
   ]
  },
  {
   "cell_type": "code",
   "execution_count": 15,
   "metadata": {},
   "outputs": [
    {
     "data": {
      "text/plain": [
       "'c'"
      ]
     },
     "execution_count": 15,
     "metadata": {},
     "output_type": "execute_result"
    }
   ],
   "source": [
    "letter = my_list[2]\n",
    "letter"
   ]
  },
  {
   "cell_type": "code",
   "execution_count": 16,
   "metadata": {},
   "outputs": [
    {
     "data": {
      "text/plain": [
       "'C'"
      ]
     },
     "execution_count": 16,
     "metadata": {},
     "output_type": "execute_result"
    }
   ],
   "source": [
    "letter.upper()"
   ]
  },
  {
   "cell_type": "code",
   "execution_count": 17,
   "metadata": {},
   "outputs": [
    {
     "data": {
      "text/plain": [
       "'C'"
      ]
     },
     "execution_count": 17,
     "metadata": {},
     "output_type": "execute_result"
    }
   ],
   "source": [
    "# doing the above in one step: \n",
    "d['key1'][2].upper()"
   ]
  },
  {
   "cell_type": "markdown",
   "metadata": {},
   "source": [
    "### Add new key:value pairs to a dictionary:\n",
    "```python\n",
    "my_new_list = {'k1': 100, 'k2': 200}\n",
    "d['k3'] = 300\n",
    "#print out my list:\n",
    "print(d) \n",
    "{'k1': 100, 'k2': 200, 'k3': 300}\n",
    "```\n",
    "\n",
    "### Overwriting an existing key:value pair:\n",
    "```python\n",
    "my_new_list = {'k1': 100, 'k2': 200}\n",
    "my_new_value['k1']: 'NEW VALUE'\n",
    "```\n",
    "\n",
    "### Grabbing keys, values and items\n",
    "```python\n",
    "my_new_list = {'k1': 100, 'k2': 200, 'k3': 300}\n",
    "my_new_list.keys() # dict_keys(['k1', 'k2', 'k3'])\n",
    "my_new_list.values() # dict_values([100, 200, 300])\n",
    "my_new_list.items() # dict_items([('k1', 100), ('k2', 200), ('k3', 300)]) - this is in a tuple (linked list)\n",
    "```"
   ]
  },
  {
   "cell_type": "code",
   "execution_count": 22,
   "metadata": {},
   "outputs": [
    {
     "name": "stdout",
     "output_type": "stream",
     "text": [
      "my_new_list before adding: {'k1': 100, 'k2': 200}\n",
      "my_new_list after adding: {'k1': 100, 'k2': 200, 'k3': 300}\n",
      "my_new_list after changing value of \"k1\": {'k1': 'NEW VALUE', 'k2': 200, 'k3': 300}\n"
     ]
    }
   ],
   "source": [
    "my_new_list = {'k1': 100, 'k2': 200}\n",
    "print(f'my_new_list before adding: {my_new_list}')\n",
    "my_new_list['k3'] = 300\n",
    "print(f'my_new_list after adding: {my_new_list}')\n",
    "\n",
    "# changing value name\n",
    "my_new_list['k1'] = 'NEW VALUE'\n",
    "print(f'my_new_list after changing value of \"k1\": {my_new_list}')"
   ]
  },
  {
   "cell_type": "markdown",
   "metadata": {},
   "source": []
  },
  {
   "cell_type": "code",
   "execution_count": 28,
   "metadata": {},
   "outputs": [
    {
     "data": {
      "text/plain": [
       "dict_items([('k1', 100), ('k2', 200), ('k3', 300)])"
      ]
     },
     "execution_count": 28,
     "metadata": {},
     "output_type": "execute_result"
    }
   ],
   "source": [
    "# grabbing all keys, values and items from a dictionary. \n",
    "my_new_list = {'k1': 100, 'k2': 200, 'k3': 300}\n",
    "my_new_list.keys() # dict_keys(['k1', 'k2', 'k3'])\n",
    "my_new_list.values() # dict_values([100, 200, 300])\n",
    "my_new_list.items() # dict_items([('k1', 100), ('k2', 200), ('k3', 300)]) - this is in a tuple (linked list)\n"
   ]
  },
  {
   "cell_type": "code",
   "execution_count": null,
   "metadata": {},
   "outputs": [],
   "source": []
  }
 ],
 "metadata": {
  "kernelspec": {
   "display_name": "Python 3.10.0 64-bit ('3.10.0')",
   "language": "python",
   "name": "python3"
  },
  "language_info": {
   "codemirror_mode": {
    "name": "ipython",
    "version": 3
   },
   "file_extension": ".py",
   "mimetype": "text/x-python",
   "name": "python",
   "nbconvert_exporter": "python",
   "pygments_lexer": "ipython3",
   "version": "3.10.0"
  },
  "orig_nbformat": 4,
  "vscode": {
   "interpreter": {
    "hash": "31f06c7659a94ccc17dc41d02973ee9ccff40e08f7add52156763fb2843538fe"
   }
  }
 },
 "nbformat": 4,
 "nbformat_minor": 2
}
