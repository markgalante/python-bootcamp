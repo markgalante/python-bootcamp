{
 "cells": [
  {
   "cell_type": "markdown",
   "metadata": {},
   "source": [
    "### Getting help - `help()`\n",
    "```python\n",
    "help(mylist.insert)\n",
    "```\n",
    "Returns \n",
    "```\n",
    "Help on built-in function insert:\n",
    "\n",
    "insert(index, object, /) method of builtins.list instance\n",
    "    Insert object before index.\n",
    "```\n",
    "\n",
    "Or [Official Docs](https://docs.python.org/3/)"
   ]
  },
  {
   "cell_type": "markdown",
   "metadata": {},
   "source": [
    "# Functions\n",
    "Using the `def` keyword.\n",
    "\n",
    "### Syntax:\n",
    "- Names of functions: lower- and snake-case.\n",
    "- Class calls use camel-case.\n",
    "```python\n",
    "def name_of_function():\n",
    "  '''\n",
    "    Explains the role of the function. \n",
    "    Everything inside the function is indented.\n",
    "  '''\n",
    "  print(\"Hello\")\n",
    "\n",
    "name_of_function() # hello\n",
    "```\n",
    "\n",
    "### Accepting arguments: \n",
    "```python\n",
    "def greet_person(name):\n",
    "  print(f'Hello, {name}')\n",
    "\n",
    "greet_person(\"Mark\") #Hello, Mark\n",
    "```\n",
    "\n",
    "### Returning values: \n",
    "Using the `return` keyword:\n",
    "```python\n",
    "def add(num1, num2):\n",
    "  return num1 + num2\n",
    "\n",
    "result = add(4, 5) # 9\n",
    "```\n",
    "\n",
    "### Passing default arguments:\n",
    "- Preventing errors when someone forgets to add an argument in the function call.\n",
    "```python\n",
    "def greet(name = \"Mark\"):\n",
    "  return f'Greetings, {name}'\n",
    "\n",
    "greet() # \"Greetings, Mark\"\n",
    "greet(\"Basil\") # \"Greetings, Basil\"\n",
    "```"
   ]
  },
  {
   "cell_type": "code",
   "execution_count": 22,
   "metadata": {},
   "outputs": [],
   "source": [
    "def is_even(num):\n",
    "  return num % 2 == 0"
   ]
  },
  {
   "cell_type": "code",
   "execution_count": 41,
   "metadata": {},
   "outputs": [
    {
     "data": {
      "text/plain": [
       "[4, 44, 20]"
      ]
     },
     "execution_count": 41,
     "metadata": {},
     "output_type": "execute_result"
    }
   ],
   "source": [
    "# Return true if any number is even inside a list: \n",
    "my_ints = [1,13, 4, 5, 33, 44, 20]\n",
    "my_ints_odd = [1,3,5,7]\n",
    "\n",
    "def has_even(num_list = []):\n",
    "  for num in num_list:\n",
    "    if is_even(num):\n",
    "      return True\n",
    "    else:\n",
    "      pass\n",
    "  return False\n",
    "\n",
    "def even_numbers(num_list = []):\n",
    "  result = []\n",
    "  for num in num_list:\n",
    "    if num  % 2 == 0:\n",
    "      result.append(num)\n",
    "  return result\n",
    "\n",
    "even_numbers(my_ints)"
   ]
  },
  {
   "cell_type": "code",
   "execution_count": 88,
   "metadata": {},
   "outputs": [
    {
     "name": "stdout",
     "output_type": "stream",
     "text": [
      "['O', ' ', ' '] 0\n"
     ]
    },
    {
     "data": {
      "text/plain": [
       "'Hoorah, you did it'"
      ]
     },
     "execution_count": 88,
     "metadata": {},
     "output_type": "execute_result"
    }
   ],
   "source": [
    "from logging import error\n",
    "from random import shuffle\n",
    "cups = [\" \", \"O\", \" \"]\n",
    "\n",
    "def shuffle_cups(cups_list):\n",
    "  shuffle(cups_list)\n",
    "  return cups\n",
    "\n",
    "def player_guess():\n",
    "  guess = ''\n",
    "  while guess not in [\"0\", \"1\", \"2\"]:\n",
    "    guess = input(\"Guess the cup\")\n",
    "  return int(guess)\n",
    "\n",
    "def determine_result(guess_list, index):\n",
    "  if index > 2:\n",
    "    return error(\"Enter a value between 0-2\")\n",
    "  print(guess_list, index)\n",
    "  if guess_list[index] == \"O\":\n",
    "    return \"Hoorah, you did it\"\n",
    "  else:\n",
    "    return \"Suck\"\n",
    "\n",
    "def guess_cups(cups_list):\n",
    "  result = shuffle_cups(cups_list)\n",
    "  index = player_guess()\n",
    "  return determine_result(result, index)\n",
    "\n",
    "guess_cups(cups)\n"
   ]
  },
  {
   "cell_type": "code",
   "execution_count": 89,
   "metadata": {},
   "outputs": [
    {
     "name": "stdout",
     "output_type": "stream",
     "text": [
      "My name is Mark\n"
     ]
    }
   ],
   "source": [
    "def myfunc(name):\n",
    "    print(\"My name is {name}\".format(name = name))\n",
    "\n",
    "myfunc(\"Mark\")"
   ]
  },
  {
   "cell_type": "code",
   "execution_count": null,
   "metadata": {},
   "outputs": [],
   "source": []
  }
 ],
 "metadata": {
  "kernelspec": {
   "display_name": "Python 3.10.0 64-bit ('3.10.0')",
   "language": "python",
   "name": "python3"
  },
  "language_info": {
   "codemirror_mode": {
    "name": "ipython",
    "version": 3
   },
   "file_extension": ".py",
   "mimetype": "text/x-python",
   "name": "python",
   "nbconvert_exporter": "python",
   "pygments_lexer": "ipython3",
   "version": "3.10.0"
  },
  "orig_nbformat": 4,
  "vscode": {
   "interpreter": {
    "hash": "31f06c7659a94ccc17dc41d02973ee9ccff40e08f7add52156763fb2843538fe"
   }
  }
 },
 "nbformat": 4,
 "nbformat_minor": 2
}
