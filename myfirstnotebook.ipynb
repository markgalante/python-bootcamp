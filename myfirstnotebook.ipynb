{
 "cells": [
  {
   "cell_type": "code",
   "execution_count": 111,
   "id": "31399304",
   "metadata": {},
   "outputs": [],
   "source": [
    "animal = \"The {f}{f}{f} {f} {f}\""
   ]
  },
  {
   "cell_type": "code",
   "execution_count": 112,
   "id": "df5007af",
   "metadata": {},
   "outputs": [
    {
     "name": "stdout",
     "output_type": "stream",
     "text": [
      "The FoxFoxFox Fox Fox\n"
     ]
    }
   ],
   "source": [
    "print(animal.format(b='Brown', f='Fox', q='Quick'))"
   ]
  },
  {
   "cell_type": "code",
   "execution_count": 130,
   "id": "882597b4",
   "metadata": {},
   "outputs": [
    {
     "name": "stdout",
     "output_type": "stream",
     "text": [
      "The result is 0\n"
     ]
    }
   ],
   "source": [
    "my_float = 100/700\n",
    "my_float\n",
    "print('The result is {res:1.0f}'.format(res = my_float))"
   ]
  },
  {
   "cell_type": "code",
   "execution_count": 132,
   "id": "5129ece6",
   "metadata": {},
   "outputs": [
    {
     "name": "stdout",
     "output_type": "stream",
     "text": [
      "Mark is 30 years old\n"
     ]
    }
   ],
   "source": [
    "age = 3\n",
    "name = \"Mark\"\n",
    "print(f'{name} is {3*10} years old')"
   ]
  },
  {
   "cell_type": "code",
   "execution_count": null,
   "id": "f318d439",
   "metadata": {},
   "outputs": [],
   "source": []
  }
 ],
 "metadata": {
  "kernelspec": {
   "display_name": "Python 3.10.0 64-bit ('3.10.0')",
   "language": "python",
   "name": "python3"
  },
  "language_info": {
   "codemirror_mode": {
    "name": "ipython",
    "version": 3
   },
   "file_extension": ".py",
   "mimetype": "text/x-python",
   "name": "python",
   "nbconvert_exporter": "python",
   "pygments_lexer": "ipython3",
   "version": "3.10.0"
  },
  "vscode": {
   "interpreter": {
    "hash": "31f06c7659a94ccc17dc41d02973ee9ccff40e08f7add52156763fb2843538fe"
   }
  }
 },
 "nbformat": 4,
 "nbformat_minor": 5
}
